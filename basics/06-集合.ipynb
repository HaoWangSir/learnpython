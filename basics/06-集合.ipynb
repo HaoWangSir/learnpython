{
 "cells": [
  {
   "cell_type": "markdown",
   "metadata": {},
   "source": [
    "### 集合定义与构造\n",
    "\n",
    "集合是由不重复的元素组成的无序集. 可以使用大括号或`set()`创建集合. 由于集合的无序性因而集合不支持索引的方式访问元素，同时由于集合元素的唯一性从而集合中不存在相同的元素."
   ]
  },
  {
   "cell_type": "code",
   "execution_count": 1,
   "metadata": {},
   "outputs": [
    {
     "name": "stdout",
     "output_type": "stream",
     "text": [
      "{1, 3, 5}\n",
      "{2, 4, 6}\n"
     ]
    }
   ],
   "source": [
    "# 创建空集合\n",
    "a = {}\n",
    "# 创建空集合\n",
    "b = set()\n",
    "# 通过字面值初始化\n",
    "c = {1, 3, 5, 1, 3, 5, 1, 3, 5}\n",
    "# 通过列表初始化\n",
    "d = set([2, 4, 6, 2, 4, 6, 2, 4, 6])\n",
    "\n",
    "print(c)\n",
    "print(d)"
   ]
  },
  {
   "cell_type": "markdown",
   "metadata": {},
   "source": [
    "### 集合操作"
   ]
  },
  {
   "cell_type": "code",
   "execution_count": 2,
   "metadata": {},
   "outputs": [
    {
     "name": "stdout",
     "output_type": "stream",
     "text": [
      "{0, 1, 2, 3, 4, 5, 6, 7, 8, 9}\n",
      "{3, 4, 5, 6, 7, 8, 9, 10, 11, 12}\n"
     ]
    }
   ],
   "source": [
    "s = set(list(range(10)))\n",
    "ss = set(list(range(3, 13)))\n",
    "print(s)\n",
    "print(ss)"
   ]
  },
  {
   "cell_type": "code",
   "execution_count": 3,
   "metadata": {},
   "outputs": [
    {
     "name": "stdout",
     "output_type": "stream",
     "text": [
      "10\n"
     ]
    }
   ],
   "source": [
    "# len返回集合元素个数\n",
    "print(len(s))"
   ]
  },
  {
   "cell_type": "code",
   "execution_count": 4,
   "metadata": {},
   "outputs": [
    {
     "name": "stdout",
     "output_type": "stream",
     "text": [
      "5在集合s中\n"
     ]
    }
   ],
   "source": [
    "# 判断元素是否在集合中\n",
    "if 5 in s:\n",
    "    print(\"5在集合s中\")\n",
    "else:\n",
    "    print(\"5不在集合s中\")"
   ]
  },
  {
   "cell_type": "code",
   "execution_count": 5,
   "metadata": {},
   "outputs": [
    {
     "name": "stdout",
     "output_type": "stream",
     "text": [
      "100不在集合s中\n"
     ]
    }
   ],
   "source": [
    "# 判断元素是否不在集合中\n",
    "if 100 not in s:\n",
    "    print(\"100不在集合s中\")\n",
    "else:\n",
    "    print(\"100在集合s中\")"
   ]
  },
  {
   "cell_type": "code",
   "execution_count": 6,
   "metadata": {},
   "outputs": [
    {
     "name": "stdout",
     "output_type": "stream",
     "text": [
      "False\n"
     ]
    }
   ],
   "source": [
    "# isdisjoint(other)如果集合与other没有交集则返回True，否则返回False\n",
    "print(s.isdisjoint(ss)) # s与ss有交集所以返回False"
   ]
  },
  {
   "cell_type": "markdown",
   "metadata": {},
   "source": [
    "- `issubset(other)`: 判断集合是否是other的子集\n",
    "- `<=other`: 判断集合是否是other的子集\n",
    "- `<other`: 判断集合是否是other的真子集"
   ]
  },
  {
   "cell_type": "code",
   "execution_count": 7,
   "metadata": {},
   "outputs": [
    {
     "name": "stdout",
     "output_type": "stream",
     "text": [
      "True\n",
      "True\n",
      "True\n"
     ]
    }
   ],
   "source": [
    "s0 = set(list(range(5)))\n",
    "\n",
    "# 判断s0是否是s的子集或真子集\n",
    "print(s0.issubset(s))\n",
    "print(s0<=s)\n",
    "print(s0<s)"
   ]
  },
  {
   "cell_type": "markdown",
   "metadata": {},
   "source": [
    "- `issuperset(other)`: 判断集合是否是other的超集\n",
    "- `>=other`: 判断集合是否是other的超集\n",
    "- `>other`: 判断集合是否是other的真超集"
   ]
  },
  {
   "cell_type": "code",
   "execution_count": 8,
   "metadata": {},
   "outputs": [
    {
     "name": "stdout",
     "output_type": "stream",
     "text": [
      "True\n",
      "True\n",
      "True\n"
     ]
    }
   ],
   "source": [
    "# 判断s是否是s0的超集或真超集\n",
    "print(s.issuperset(s0))\n",
    "print(s>=s0)\n",
    "print(s>s0)"
   ]
  },
  {
   "cell_type": "code",
   "execution_count": 9,
   "metadata": {},
   "outputs": [
    {
     "name": "stdout",
     "output_type": "stream",
     "text": [
      "{0, 1, 2, 3, 4, 5, 6, 7, 8, 9, 10, 11, 12}\n",
      "{0, 1, 2, 3, 4, 5, 6, 7, 8, 9, 10, 11, 12}\n"
     ]
    }
   ],
   "source": [
    "# 通过union(other)或|other可以获取集合与other的并集\n",
    "print(s.union(ss))\n",
    "print(s|ss)"
   ]
  },
  {
   "cell_type": "code",
   "execution_count": 10,
   "metadata": {},
   "outputs": [
    {
     "name": "stdout",
     "output_type": "stream",
     "text": [
      "{3, 4, 5, 6, 7, 8, 9}\n",
      "{3, 4, 5, 6, 7, 8, 9}\n"
     ]
    }
   ],
   "source": [
    "# 通过intersection(other)或&other可以获取集合与other的交集\n",
    "print(s.intersection(ss))\n",
    "print(s&ss)"
   ]
  },
  {
   "cell_type": "code",
   "execution_count": 11,
   "metadata": {},
   "outputs": [
    {
     "name": "stdout",
     "output_type": "stream",
     "text": [
      "{0, 1, 2}\n",
      "{0, 1, 2}\n"
     ]
    }
   ],
   "source": [
    "# 通过difference(other)或-other可以获取集合与other的差集\n",
    "# 差集结果为在s中但不在ss中的元素\n",
    "print(s.difference(ss))\n",
    "print(s-ss)"
   ]
  },
  {
   "cell_type": "code",
   "execution_count": 12,
   "metadata": {},
   "outputs": [
    {
     "name": "stdout",
     "output_type": "stream",
     "text": [
      "{0, 1, 2, 10, 11, 12}\n",
      "{0, 1, 2, 10, 11, 12}\n"
     ]
    }
   ],
   "source": [
    "# 通过symmetric_difference(other)或^other可以获取集合与ohter的对称差集\n",
    "# 对称差集的结果为s和ss的并集与s和ss的交集之差\n",
    "print(s.symmetric_difference(ss))\n",
    "print(s^ss)"
   ]
  },
  {
   "cell_type": "code",
   "execution_count": 13,
   "metadata": {},
   "outputs": [
    {
     "name": "stdout",
     "output_type": "stream",
     "text": [
      "{0, 1, 2, 3, 4, 5, 6, 7, 8, 9, 11, 12, 13}\n",
      "{0, 1, 2, 3, 4, 5, 6, 7, 8, 9, 11, 12, 13}\n"
     ]
    }
   ],
   "source": [
    "# 通过update(other)或|=other计算集合与other的并集，但是是原地修改集合\n",
    "s1 = set(list(range(10)))\n",
    "s2 = set(list(range(10)))\n",
    "s3 = set([11, 12, 13])\n",
    "\n",
    "# 求s3与s1和s2的并集，并原地更新s1和s2\n",
    "s1.update(s3)\n",
    "s2 |= s3\n",
    "print(s1)\n",
    "print(s2)"
   ]
  },
  {
   "cell_type": "code",
   "execution_count": 14,
   "metadata": {},
   "outputs": [
    {
     "name": "stdout",
     "output_type": "stream",
     "text": [
      "{0, 1, 2, 3, 4}\n",
      "{0, 1, 2, 3, 4}\n"
     ]
    }
   ],
   "source": [
    "# 通过intersection_update(other)或&=other计算集合与other的交集，但是是原地修改集合\n",
    "s1 = set(list(range(10)))\n",
    "s2 = set(list(range(10)))\n",
    "\n",
    "# 求s0与s1和s2的交集，并原地更新s1和s2\n",
    "s1.intersection_update(s0)\n",
    "s2 &= s0\n",
    "print(s1)\n",
    "print(s2)"
   ]
  },
  {
   "cell_type": "code",
   "execution_count": 15,
   "metadata": {},
   "outputs": [
    {
     "name": "stdout",
     "output_type": "stream",
     "text": [
      "{0, 1, 2}\n",
      "{0, 1, 2}\n"
     ]
    }
   ],
   "source": [
    "# 通过difference_update(other)或-=other计算集合与other的差集，但是是原地修改集合\n",
    "s1 = set(list(range(10)))\n",
    "s2 = set(list(range(10)))\n",
    "\n",
    "# 计算s1和s2与ss的差集，并原地更新s1和s2\n",
    "s1.difference_update(ss)\n",
    "s2 -= ss\n",
    "print(s1)\n",
    "print(s2)"
   ]
  },
  {
   "cell_type": "code",
   "execution_count": 16,
   "metadata": {},
   "outputs": [
    {
     "name": "stdout",
     "output_type": "stream",
     "text": [
      "{0, 1, 2, 10, 11, 12}\n",
      "{0, 1, 2, 10, 11, 12}\n"
     ]
    }
   ],
   "source": [
    "# 通过symmetric_difference_update(other)或^=other计算集合与other的对称差集，但是是原地修改集合\n",
    "s1 = set(list(range(10)))\n",
    "s2 = set(list(range(10)))\n",
    "\n",
    "# 计算s1和s2与ss的对称差集，并原地更新s1和s2\n",
    "s1.symmetric_difference_update(ss)\n",
    "s2 ^= ss\n",
    "print(s1)\n",
    "print(s2)"
   ]
  },
  {
   "cell_type": "code",
   "execution_count": 17,
   "metadata": {},
   "outputs": [
    {
     "name": "stdout",
     "output_type": "stream",
     "text": [
      "{0, 1, 2, 3, 4, 5, 6, 7, 8, 9, 100}\n"
     ]
    }
   ],
   "source": [
    "# add将元素添加到集合中\n",
    "s.add(100)\n",
    "print(s)"
   ]
  },
  {
   "cell_type": "code",
   "execution_count": 18,
   "metadata": {},
   "outputs": [
    {
     "name": "stdout",
     "output_type": "stream",
     "text": [
      "{0, 1, 2, 3, 4, 5, 6, 7, 8, 9}\n"
     ]
    }
   ],
   "source": [
    "# remove从集合中删除元素，如果删除不存在于集合中的元素将引发KeyError\n",
    "s.remove(100)\n",
    "print(s)"
   ]
  },
  {
   "cell_type": "code",
   "execution_count": 19,
   "metadata": {},
   "outputs": [
    {
     "name": "stdout",
     "output_type": "stream",
     "text": [
      "0\n",
      "{1, 2, 3, 4, 5, 6, 7, 8, 9}\n"
     ]
    }
   ],
   "source": [
    "# pop从集合中随机返回一个元素，并将该元素从集合中删除，从空集合中pop元素将引发KeyError\n",
    "v = s.pop()\n",
    "print(v)\n",
    "print(s)"
   ]
  },
  {
   "cell_type": "code",
   "execution_count": 20,
   "metadata": {},
   "outputs": [
    {
     "name": "stdout",
     "output_type": "stream",
     "text": [
      "set()\n"
     ]
    }
   ],
   "source": [
    "# clear清空集合元素\n",
    "s.clear()\n",
    "print(s)"
   ]
  },
  {
   "cell_type": "markdown",
   "metadata": {},
   "source": [
    "#### 集合推导\n",
    "\n",
    "与列表一样，字典也可以进行推导，字典通过`{}`包括代码进行推导，例子如下"
   ]
  },
  {
   "cell_type": "code",
   "execution_count": 21,
   "metadata": {},
   "outputs": [
    {
     "name": "stdout",
     "output_type": "stream",
     "text": [
      "{0, 2, 4, 6, 8, 10, 12, 14, 16, 18}\n"
     ]
    }
   ],
   "source": [
    "s = set(list(range(10)))\n",
    "\n",
    "# 将原集合中的值翻倍后赋给s1\n",
    "s1 = {v*2 for v in s}\n",
    "print(s1)"
   ]
  },
  {
   "cell_type": "code",
   "execution_count": 22,
   "metadata": {},
   "outputs": [
    {
     "name": "stdout",
     "output_type": "stream",
     "text": [
      "{64, 36, 16, 49, 81, 25}\n"
     ]
    }
   ],
   "source": [
    "# 只获取满足给定条件的元素\n",
    "s2 = {v*v for v in s if v > 3}\n",
    "print(s2)"
   ]
  }
 ],
 "metadata": {
  "kernelspec": {
   "display_name": "Python 3",
   "language": "python",
   "name": "python3"
  },
  "language_info": {
   "codemirror_mode": {
    "name": "ipython",
    "version": 3
   },
   "file_extension": ".py",
   "mimetype": "text/x-python",
   "name": "python",
   "nbconvert_exporter": "python",
   "pygments_lexer": "ipython3",
   "version": "3.8.3"
  }
 },
 "nbformat": 4,
 "nbformat_minor": 4
}
