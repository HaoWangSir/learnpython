{
 "cells": [
  {
   "cell_type": "markdown",
   "metadata": {},
   "source": [
    "### 函数定义\n",
    "\n",
    "函数是组织好的，可重复使用的，用于执行特定任务的代码块，函数能提高代码的模块性，Python本身提供的函数称为内置函数，用户自己创建的函数称为自定义函数\n",
    "\n",
    "在Python中使用`def`定义函数，函数定义格式如下\n",
    "```python\n",
    "def 函数名(函数参数):\n",
    "    函数逻辑\n",
    "    return 返回值\n",
    "```\n",
    "函数可以有参数，也可以没有参数，函数如果有返回值时需要通过`return`返回相应的返回值，如果没有返回值则不需要`return`语句"
   ]
  },
  {
   "cell_type": "code",
   "execution_count": 15,
   "metadata": {},
   "outputs": [
    {
     "name": "stdout",
     "output_type": "stream",
     "text": [
      "我是一个无参数，无返回值的函数\n"
     ]
    }
   ],
   "source": [
    "# 定义一个无参数，无返回值的函数\n",
    "def simple():\n",
    "    \"\"\"该函数既无参数也无返回值\"\"\"\n",
    "    print(\"我是一个无参数，无返回值的函数\")\n",
    "    \n",
    "# 通过函数名加()调用函数\n",
    "simple()"
   ]
  },
  {
   "cell_type": "code",
   "execution_count": 16,
   "metadata": {},
   "outputs": [
    {
     "name": "stdout",
     "output_type": "stream",
     "text": [
      "从0到100的和为: 5050\n"
     ]
    }
   ],
   "source": [
    "# 定义一个有参数有返回值的函数\n",
    "def sumn(n):\n",
    "    \"\"\"\n",
    "    该函数既有参数，也有返回值\n",
    "    该函数的作用是，输入一个正整数n，返回从0到n之和\n",
    "    \"\"\"\n",
    "    if n < 1:\n",
    "        return 0\n",
    "    total = 0\n",
    "    for x in range(n+1):\n",
    "        total += x\n",
    "    return total\n",
    "\n",
    "n = 100\n",
    "print(\"从0到{}的和为: {}\".format(n, sumn(n)))"
   ]
  },
  {
   "cell_type": "code",
   "execution_count": 17,
   "metadata": {},
   "outputs": [
    {
     "name": "stdout",
     "output_type": "stream",
     "text": [
      "101\n",
      "199\n",
      "299\n"
     ]
    }
   ],
   "source": [
    "# 定义一个带默认值参数的函数\n",
    "def addn(x, n=1):\n",
    "    \"\"\"\n",
    "    函数还可以定义参数的默认值\n",
    "    默认值参数必须放到参数列表后面\n",
    "    该函数的作用是输入x，返回x+n，且n的默认值为1\n",
    "    \"\"\"\n",
    "    return x + n\n",
    "\n",
    "# 等价于调用addn(100, 1)\n",
    "print(addn(100))\n",
    "\n",
    "# 显式传递参数\n",
    "print(addn(100, 99))\n",
    "\n",
    "# 还可以通过关键字参数调用函数，即明确指定参数和参数的值\n",
    "print(addn(x=200, n=99))"
   ]
  },
  {
   "cell_type": "markdown",
   "metadata": {},
   "source": [
    "### *args\n",
    "\n",
    "通过`*args`可以向函数传递可变个数参数，其表现形式类似序列类型"
   ]
  },
  {
   "cell_type": "code",
   "execution_count": 18,
   "metadata": {},
   "outputs": [
    {
     "name": "stdout",
     "output_type": "stream",
     "text": [
      "88\n",
      "115\n",
      "419\n"
     ]
    }
   ],
   "source": [
    "def add_args(*args):\n",
    "    \"\"\"该函数实现的逻辑是将所有输入参数累加求和并返回\"\"\"\n",
    "    total = 0\n",
    "    for val in args:\n",
    "        total += val\n",
    "    return total\n",
    "\n",
    "# 可以向函数传递可变个数参数\n",
    "print(add_args(23, 65))\n",
    "print(add_args(1, 3, 5, 7, 99))\n",
    "print(add_args(22, 53, 6, 98, 21, 30, 59, 73, 20, 37))"
   ]
  },
  {
   "cell_type": "markdown",
   "metadata": {},
   "source": [
    "### **kwargs\n",
    "\n",
    "通过`**kwargs`可以向函数传递可变个数的键值对参数，其表现形式类似字典类型"
   ]
  },
  {
   "cell_type": "code",
   "execution_count": 19,
   "metadata": {},
   "outputs": [
    {
     "name": "stdout",
     "output_type": "stream",
     "text": [
      "python -> 人生苦短，我用Python\n",
      "c++ -> awesome\n",
      "java -> shit\n",
      "js -> ugly\n",
      "php -> 传说中最好的编程语言???\n",
      "go -> let'go\n"
     ]
    }
   ],
   "source": [
    "def language_resp(**kwargs):\n",
    "    \"\"\"该函数实现的逻辑是将输入的键值对参数全部输出\"\"\"\n",
    "    for lang, resp in kwargs.items():\n",
    "        print(\"{} -> {}\".format(lang, resp))\n",
    "        \n",
    "lang = {\n",
    "    \"python\": \"人生苦短，我用Python\",\n",
    "    \"c++\": \"awesome\",\n",
    "    \"java\": \"shit\",\n",
    "    \"js\": \"ugly\",\n",
    "    \"php\": \"传说中最好的编程语言???\",\n",
    "    \"go\": \"let'go\"\n",
    "}\n",
    "\n",
    "language_resp(**lang)"
   ]
  },
  {
   "cell_type": "markdown",
   "metadata": {},
   "source": [
    "### lambda\n",
    "\n",
    "可以用`lambda`关键字来创建匿名函数，`lambda`函数在可以在需要函数对象的任何地方使用."
   ]
  },
  {
   "cell_type": "code",
   "execution_count": 20,
   "metadata": {},
   "outputs": [
    {
     "name": "stdout",
     "output_type": "stream",
     "text": [
      "9\n",
      "25\n"
     ]
    }
   ],
   "source": [
    "# 定义一个lambda函数，计算输入值的平方\n",
    "square = lambda x: x*x\n",
    "\n",
    "print(square(3))\n",
    "print(square(5))"
   ]
  },
  {
   "cell_type": "code",
   "execution_count": 21,
   "metadata": {},
   "outputs": [
    {
     "name": "stdout",
     "output_type": "stream",
     "text": [
      "100\n",
      "109\n"
     ]
    }
   ],
   "source": [
    "def get_addn(n=1):\n",
    "    \"\"\"返回一个lambda对象，该lambda输入参数为x，返回值为x+n\"\"\"\n",
    "    return lambda x: x + n\n",
    "\n",
    "# 输入参数为默认值n=1，调用该lambda对象将获取比输入参数大1的值\n",
    "add_one = get_addn()\n",
    "print(add_one(99))\n",
    "\n",
    "# 输入参数为n=10，调用该lambda对象将获取比输入参数大10的值\n",
    "add_ten = get_addn(n=10)\n",
    "print(add_ten(99))"
   ]
  },
  {
   "cell_type": "code",
   "execution_count": 22,
   "metadata": {},
   "outputs": [
    {
     "name": "stdout",
     "output_type": "stream",
     "text": [
      "[(1, 'one'), (2, 'two'), (3, 'three'), (4, 'four'), (5, 'five')]\n"
     ]
    }
   ],
   "source": [
    "# 自定义排序时时常会使用lambda函数自定义排序规则\n",
    "items = [(1, \"one\"), (3, \"three\"), (5, \"five\"), (2, \"two\"), (4, \"four\")]\n",
    "# 使用元组的第一个元素排序\n",
    "items.sort(key=lambda x : x[0])\n",
    "print(items)"
   ]
  },
  {
   "cell_type": "code",
   "execution_count": 23,
   "metadata": {},
   "outputs": [
    {
     "name": "stdout",
     "output_type": "stream",
     "text": [
      "[(5, 'five'), (4, 'four'), (1, 'one'), (3, 'three'), (2, 'two')]\n"
     ]
    }
   ],
   "source": [
    "# 使用元组第二个元素排序\n",
    "items.sort(key=lambda x : x[1])\n",
    "print(items)"
   ]
  },
  {
   "cell_type": "markdown",
   "metadata": {},
   "source": [
    "### 函数进阶\n",
    "\n",
    "在Python中，函数也是对象，函数可以作为其它函数的参数或返回值. 参数或返回值是函数的函数称为高阶函数."
   ]
  },
  {
   "cell_type": "code",
   "execution_count": 24,
   "metadata": {},
   "outputs": [],
   "source": [
    "import functools"
   ]
  },
  {
   "cell_type": "code",
   "execution_count": 25,
   "metadata": {},
   "outputs": [
    {
     "name": "stdout",
     "output_type": "stream",
     "text": [
      "5 + 3 = 8\n",
      "5 - 3 = 2\n",
      "5 * 3 = 15\n",
      "5 / 3 = 1.6666666666666667\n"
     ]
    }
   ],
   "source": [
    "def add(x, y):\n",
    "    return x + y\n",
    "\n",
    "def minus(x, y):\n",
    "    return x - y\n",
    "\n",
    "def multiply(x, y):\n",
    "    return x * y\n",
    "\n",
    "def divide(x, y):\n",
    "    if y == 0:\n",
    "        raise ZeroDivisionError(\"除数不能为0\")\n",
    "    return x / y\n",
    "\n",
    "def calculator(x, y, op):\n",
    "    \"\"\"函数作为参数\"\"\"\n",
    "    return op(x, y)\n",
    "\n",
    "x = 5\n",
    "y = 3\n",
    "\n",
    "# 把函数作为参数传递到其它函数中\n",
    "print(\"{} + {} = {}\".format(x, y, calculator(x, y, add)))\n",
    "print(\"{} - {} = {}\".format(x, y, calculator(x, y, minus)))\n",
    "print(\"{} * {} = {}\".format(x, y, calculator(x, y, multiply)))\n",
    "print(\"{} / {} = {}\".format(x, y, calculator(x, y, divide)))"
   ]
  },
  {
   "cell_type": "code",
   "execution_count": 26,
   "metadata": {},
   "outputs": [
    {
     "name": "stdout",
     "output_type": "stream",
     "text": [
      "8\n",
      "2\n",
      "15\n",
      "1.6666666666666667\n"
     ]
    }
   ],
   "source": [
    "def operator(op):\n",
    "    \"\"\"函数作为返回值\"\"\"\n",
    "    def add(x, y):\n",
    "        return x + y\n",
    "\n",
    "    def minus(x, y):\n",
    "        return x - y\n",
    "\n",
    "    def multiply(x, y):\n",
    "        return x * y\n",
    "\n",
    "    def divide(x, y):\n",
    "        if y == 0:\n",
    "            raise ZeroDivisionError(\"除数不能为0\")\n",
    "        return x / y\n",
    "    \n",
    "    if op == \"+\":\n",
    "        return add\n",
    "    elif op == \"-\":\n",
    "        return minus\n",
    "    elif op == \"*\":\n",
    "        return multiply\n",
    "    elif op == \"/\":\n",
    "        return divide\n",
    "    else:\n",
    "        raise ValueError(\"函数参数错误\")\n",
    "        \n",
    "# 从其它函数返回函数对象\n",
    "fadd = operator(\"+\")\n",
    "fminus = operator(\"-\")\n",
    "fmultiply = operator(\"*\")\n",
    "fdivide = operator(\"/\")\n",
    "\n",
    "x = 5\n",
    "y = 3\n",
    "print(fadd(x, y))\n",
    "print(fminus(x, y))\n",
    "print(fmultiply(x, y))\n",
    "print(fdivide(x, y))"
   ]
  },
  {
   "cell_type": "code",
   "execution_count": 27,
   "metadata": {},
   "outputs": [
    {
     "name": "stdout",
     "output_type": "stream",
     "text": [
      "张三#666666\n",
      "李四#999999\n"
     ]
    }
   ],
   "source": [
    "def user_id(user_name, uid, sep):\n",
    "    \"\"\"使用分隔符将用户名和用户id拼接起来\"\"\"\n",
    "    return user_name + sep + str(uid)\n",
    "\n",
    "# 我们还可以通过partial返回一个新的函数对象，且可以指定原函数的部分参数\n",
    "uname = functools.partial(user_id, sep=\"#\")\n",
    "print(uname(\"张三\", 666666)) # 等价于调用user_id(\"张三\", 666666, \"#\")\n",
    "print(uname(\"李四\", 999999)) # 等价于调用user_id(\"李四\", 999999, \"#\")"
   ]
  },
  {
   "cell_type": "code",
   "execution_count": 28,
   "metadata": {},
   "outputs": [
    {
     "name": "stdout",
     "output_type": "stream",
     "text": [
      "张三#666666\n",
      "李四#999999\n"
     ]
    }
   ],
   "source": [
    "# functools.partial用于普通函数\n",
    "# functools.partialmethod用于类内定义的方法\n",
    "\n",
    "class UserId:\n",
    "    @staticmethod\n",
    "    def user_id(user_name, uid, sep):\n",
    "        \"\"\"使用分隔符将用户名和用户id拼接起来\"\"\"\n",
    "        return user_name + sep + str(uid)\n",
    "    uname = functools.partialmethod(user_id, sep=\"#\")\n",
    "    \n",
    "u = UserId()\n",
    "print(u.uname(\"张三\", 666666)) # 等价于调用UserId.user_id(\"张三\", 666666, \"#\")\n",
    "print(u.uname(\"李四\", 999999)) # 等价于调用UserId.user_id(\"李四\", 999999, \"#\")"
   ]
  }
 ],
 "metadata": {
  "kernelspec": {
   "display_name": "Python 3",
   "language": "python",
   "name": "python3"
  },
  "language_info": {
   "codemirror_mode": {
    "name": "ipython",
    "version": 3
   },
   "file_extension": ".py",
   "mimetype": "text/x-python",
   "name": "python",
   "nbconvert_exporter": "python",
   "pygments_lexer": "ipython3",
   "version": "3.8.3"
  }
 },
 "nbformat": 4,
 "nbformat_minor": 4
}
