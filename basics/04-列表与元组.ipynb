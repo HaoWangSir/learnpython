{
 "cells": [
  {
   "cell_type": "markdown",
   "metadata": {},
   "source": [
    "Python中可以通过组合一些元素得到多种复合数据类型，其中最常用的是`list`，可以通过方括号，逗号分割一组元素得到. `list`可以包含不同类型的元素，但通常使用时各个元素类型相同，`list`是可变对象"
   ]
  },
  {
   "cell_type": "markdown",
   "metadata": {},
   "source": [
    "### 通用序列运算\n",
    "\n",
    "|       运算符       |        描述       |\n",
    "| ------------------------ | ----------------------- |\n",
    "|   `x in s`        |     如果x出现在s中则返回True，否则返回False       |\n",
    "|   `x not in s`        |   如果x没有出现在s中返回True，否则返回False         |\n",
    "|   `s + t`        |     s和t拼接       |\n",
    "|   `s * n`或`n * s`     |    s与自身进行n次拼接        |\n",
    "|   `s[i]`        |     x中索引为i的项，索引从0开始       |\n",
    "|   `s[i:j]`        |     s中索引从i开始，到j-1结束       |\n",
    "|   `s[i:j:k]`        |     s中索引从i到j-1，且步长为k       |\n",
    "|   `len(s)`        |     s中元素数量       |\n",
    "|   `min(s)`        |     s中的最小元素       |\n",
    "|   `max(s)`        |     s中的最大元素       |\n",
    "|   `s.index(x)`        |    x在s中首次出现的索引        |\n",
    "|   `s.count(x)`        |    x在s中出现的次数        |"
   ]
  },
  {
   "cell_type": "code",
   "execution_count": 1,
   "metadata": {},
   "outputs": [
    {
     "name": "stdout",
     "output_type": "stream",
     "text": [
      "[1, 3, 5, 7, 9, 2, 4, 6, 8, 10]\n",
      "['Python', 'CXX', 'Go', 'Java', 'Javascript']\n",
      "[0, 1, 2, 3, 4, 5, 6, 7, 8, 9]\n"
     ]
    }
   ],
   "source": [
    "# 创建一个空列表\n",
    "a = []\n",
    "# 创建一个空列表\n",
    "b = list()\n",
    "c = [1, 3, 5, 7, 9, 2, 4, 6, 8, 10]\n",
    "d = [\"Python\", \"CXX\", \"Go\", \"Java\", \"Javascript\"]\n",
    "# 通过range构造列表，注意range返回的是可迭代对象而不是列表\n",
    "e = list(range(10))\n",
    "\n",
    "print(c)\n",
    "print(d)\n",
    "print(e)"
   ]
  },
  {
   "cell_type": "code",
   "execution_count": 2,
   "metadata": {},
   "outputs": [
    {
     "name": "stdout",
     "output_type": "stream",
     "text": [
      "Python\n",
      "CXX\n",
      "Go\n",
      "Java\n",
      "Javascript\n",
      "-------分隔线-------\n",
      "索引: 0，值: Python\n",
      "索引: 1，值: CXX\n",
      "索引: 2，值: Go\n",
      "索引: 3，值: Java\n",
      "索引: 4，值: Javascript\n"
     ]
    }
   ],
   "source": [
    "# 遍历列表元素\n",
    "for item in d:\n",
    "    print(item)\n",
    "    \n",
    "print(\"-------分隔线-------\")\n",
    "\n",
    "# 通过enumerate遍历列表\n",
    "for i, item in enumerate(d):\n",
    "    print(\"索引: {}，值: {}\".format(i, item))"
   ]
  },
  {
   "cell_type": "code",
   "execution_count": 3,
   "metadata": {},
   "outputs": [
    {
     "name": "stdout",
     "output_type": "stream",
     "text": [
      "True\n",
      "False\n",
      "False\n",
      "True\n"
     ]
    }
   ],
   "source": [
    "# 判断值是否在列表中\n",
    "print(\"Python\" in d)\n",
    "print(\"PHP\" in d)\n",
    "# 判断值是否不在列表中\n",
    "print(\"CXX\" not in d)\n",
    "print(\"Scala\" not in d)"
   ]
  },
  {
   "cell_type": "code",
   "execution_count": 4,
   "metadata": {},
   "outputs": [
    {
     "name": "stdout",
     "output_type": "stream",
     "text": [
      "[1, 3, 5, 7, 9, 2, 4, 6, 8, 10, 0, 1, 2, 3, 4, 5, 6, 7, 8, 9]\n"
     ]
    }
   ],
   "source": [
    "# 列表拼接\n",
    "f = c + e\n",
    "print(f)"
   ]
  },
  {
   "cell_type": "code",
   "execution_count": 5,
   "metadata": {},
   "outputs": [
    {
     "name": "stdout",
     "output_type": "stream",
     "text": [
      "[1, 3, 5, 7, 9, 2, 4, 6, 8, 10, 1, 3, 5, 7, 9, 2, 4, 6, 8, 10, 1, 3, 5, 7, 9, 2, 4, 6, 8, 10]\n"
     ]
    }
   ],
   "source": [
    "# 自身重复若干次并拼接到一起\n",
    "g = c * 3\n",
    "print(g)"
   ]
  },
  {
   "cell_type": "code",
   "execution_count": 6,
   "metadata": {},
   "outputs": [
    {
     "name": "stdout",
     "output_type": "stream",
     "text": [
      "[1, 3, 5, 7, 9, 2, 4, 6, 8, 10]\n",
      "1\n",
      "10\n",
      "[5, 7, 9, 2, 4]\n",
      "[7, 9, 2, 4, 6, 8, 10]\n",
      "[1, 3, 5, 7, 9, 2, 4]\n",
      "[1, 3, 5, 7, 9, 2, 4, 6, 8, 10]\n",
      "[5, 9, 4]\n",
      "[6, 4, 2, 9, 7]\n",
      "[6, 4, 2, 9]\n",
      "[10, 8, 6, 4, 2, 9, 7, 5, 3, 1]\n"
     ]
    }
   ],
   "source": [
    "# 列表的下标访问\n",
    "print(c)\n",
    "# 第一个元素\n",
    "print(c[0])\n",
    "# 最后一个元素\n",
    "print(c[-1])\n",
    "# 起始下标为2，最后一个下标为6\n",
    "print(c[2:7])\n",
    "# 起始下标为3，省略终止下标表示一直访问到最末尾\n",
    "print(c[3:])\n",
    "# 省略起始下标表示下标从0开始\n",
    "print(c[:7])\n",
    "# 同时省略起始和终止下标表示起始下标为0，终止下标为末尾\n",
    "print(c[:])\n",
    "# 起始下标为2，最后一个下标为6，且步长为2\n",
    "print(c[2:7:2])\n",
    "# 起始下标为7，末尾下标为3，步长为负数表示从后往前访问\n",
    "print(c[7:2:-1])\n",
    "# 起始元素为倒数第3个元素，末尾元素为倒数第6个元素\n",
    "print(c[-3:-7:-1])\n",
    "# 逆序列表\n",
    "print(c[::-1])"
   ]
  },
  {
   "cell_type": "code",
   "execution_count": 7,
   "metadata": {},
   "outputs": [
    {
     "name": "stdout",
     "output_type": "stream",
     "text": [
      "10\n"
     ]
    }
   ],
   "source": [
    "# 列表长度\n",
    "print(len(c))"
   ]
  },
  {
   "cell_type": "code",
   "execution_count": 8,
   "metadata": {},
   "outputs": [
    {
     "name": "stdout",
     "output_type": "stream",
     "text": [
      "1\n",
      "10\n"
     ]
    }
   ],
   "source": [
    "# 列表元素最大值\n",
    "print(min(c))\n",
    "# 列表元素最小值\n",
    "print(max(c))"
   ]
  },
  {
   "cell_type": "code",
   "execution_count": 9,
   "metadata": {},
   "outputs": [
    {
     "name": "stdout",
     "output_type": "stream",
     "text": [
      "1\n",
      "2\n"
     ]
    }
   ],
   "source": [
    "v = 3\n",
    "# 值在列表中首次出现的索引\n",
    "print(f.index(v))\n",
    "# 值在列表中出现的次数\n",
    "print(f.count(v))"
   ]
  },
  {
   "cell_type": "markdown",
   "metadata": {},
   "source": [
    "\n",
    "### 可变序列运算\n",
    "\n",
    "|       运算符       |        描述       |\n",
    "| ------------------------ | ----------------------- |\n",
    "|    `s[i] = x`       |     将s中索引为i的元素值修改为x       |\n",
    "|    `s[i:j] = t`       |    将s中索引从i到j-1的元素替换为t        |\n",
    "|    `del s[i:j]`       |    将s中索引从i到j-1的元素删除        |\n",
    "|    `s.append(x)`       |    将x追加到s的末尾        |\n",
    "|    `s.clear()`       |     清空s中的元素       |\n",
    "|    `s.copy()`       |     拷贝s       |\n",
    "|    `s.extend(t)或s += t`       |    将t中的元素全都追加到s末尾        |\n",
    "|    `s.insert(i, x)`       |    在s索引为i处插入x        |\n",
    "|    `s.pop(i)`       |      返回s中索引为i的元素并删除该元素      |\n",
    "|    `s.remove(x)`       |    从s中删除第一个值为x的元素        |\n",
    "|    `s.reverse()`       |    对s进行逆序排序        |"
   ]
  },
  {
   "cell_type": "code",
   "execution_count": 10,
   "metadata": {},
   "outputs": [
    {
     "name": "stdout",
     "output_type": "stream",
     "text": [
      "[1, 3, 5, 7, 9, 2, 4, 6, 8, 10]\n",
      "[1, 30, 5, 7, 9, 2, 4, 6, 8, 10]\n",
      "[1, 30, 13, 15, 17, 2, 4, 6, 8, 10]\n"
     ]
    }
   ],
   "source": [
    "print(c)\n",
    "# 列表是可变对象，可以直接修改列表元素\n",
    "c[1] = 30\n",
    "print(c)\n",
    "# 修改一定范围内的元素\n",
    "c[2:5] = [13, 15, 17]\n",
    "print(c)"
   ]
  },
  {
   "cell_type": "code",
   "execution_count": 11,
   "metadata": {},
   "outputs": [
    {
     "name": "stdout",
     "output_type": "stream",
     "text": [
      "[30, 13, 15, 17, 2, 4, 6, 8, 10]\n",
      "[30, 13, 4, 6, 8, 10]\n"
     ]
    }
   ],
   "source": [
    "# 删除一个元素\n",
    "del c[0]\n",
    "print(c)\n",
    "\n",
    "# 删除多个元素\n",
    "del c[2:5]\n",
    "print(c)"
   ]
  },
  {
   "cell_type": "code",
   "execution_count": 12,
   "metadata": {},
   "outputs": [
    {
     "name": "stdout",
     "output_type": "stream",
     "text": [
      "[30, 13, 4, 6, 8, 10, 100]\n"
     ]
    }
   ],
   "source": [
    "# 在列表末尾追加元素\n",
    "c.append(100)\n",
    "print(c)"
   ]
  },
  {
   "cell_type": "code",
   "execution_count": 13,
   "metadata": {},
   "outputs": [
    {
     "name": "stdout",
     "output_type": "stream",
     "text": [
      "[30, 13, 4, 6, 8, 10, 100]\n"
     ]
    }
   ],
   "source": [
    "# 拷贝列表\n",
    "h = c.copy()\n",
    "print(h)"
   ]
  },
  {
   "cell_type": "code",
   "execution_count": 14,
   "metadata": {},
   "outputs": [
    {
     "name": "stdout",
     "output_type": "stream",
     "text": [
      "[]\n"
     ]
    }
   ],
   "source": [
    "# 清空列表\n",
    "h.clear()\n",
    "print(h)"
   ]
  },
  {
   "cell_type": "code",
   "execution_count": 15,
   "metadata": {},
   "outputs": [
    {
     "name": "stdout",
     "output_type": "stream",
     "text": [
      "[30, 13, 4, 6, 8, 10, 100, 10, 20, 30]\n"
     ]
    }
   ],
   "source": [
    "# 追加一个列表到另一个列表\n",
    "c.extend([10, 20, 30])\n",
    "print(c)"
   ]
  },
  {
   "cell_type": "code",
   "execution_count": 16,
   "metadata": {},
   "outputs": [
    {
     "name": "stdout",
     "output_type": "stream",
     "text": [
      "[30, 13, 99, 4, 6, 8, 10, 100, 10, 20, 30]\n"
     ]
    }
   ],
   "source": [
    "# 在给定索引处插入元素\n",
    "c.insert(2, 99)\n",
    "print(c)"
   ]
  },
  {
   "cell_type": "code",
   "execution_count": 17,
   "metadata": {},
   "outputs": [
    {
     "name": "stdout",
     "output_type": "stream",
     "text": [
      "99\n",
      "[30, 13, 4, 6, 8, 10, 100, 10, 20, 30]\n"
     ]
    }
   ],
   "source": [
    "# 删除并返回给定索引的元素\n",
    "v = c.pop(2)\n",
    "print(v)\n",
    "print(c)"
   ]
  },
  {
   "cell_type": "code",
   "execution_count": 18,
   "metadata": {},
   "outputs": [
    {
     "name": "stdout",
     "output_type": "stream",
     "text": [
      "[30, 13, 4, 8, 10, 100, 10, 20, 30]\n"
     ]
    }
   ],
   "source": [
    "# 删除给定值的元素\n",
    "c.remove(6)\n",
    "print(c)"
   ]
  },
  {
   "cell_type": "code",
   "execution_count": 19,
   "metadata": {},
   "outputs": [
    {
     "name": "stdout",
     "output_type": "stream",
     "text": [
      "[30, 20, 10, 100, 10, 8, 4, 13, 30]\n"
     ]
    }
   ],
   "source": [
    "# 列表逆序\n",
    "c.reverse()\n",
    "print(c)"
   ]
  },
  {
   "cell_type": "code",
   "execution_count": 20,
   "metadata": {},
   "outputs": [
    {
     "name": "stdout",
     "output_type": "stream",
     "text": [
      "[4, 8, 10, 10, 13, 20, 30, 30, 100]\n"
     ]
    }
   ],
   "source": [
    "# 对列表进行排序，默认升序排序\n",
    "c.sort()\n",
    "print(c)"
   ]
  },
  {
   "cell_type": "code",
   "execution_count": 21,
   "metadata": {},
   "outputs": [
    {
     "name": "stdout",
     "output_type": "stream",
     "text": [
      "[100, 30, 30, 20, 13, 10, 10, 8, 4]\n"
     ]
    }
   ],
   "source": [
    "# 降序排序\n",
    "c.sort(reverse=True)\n",
    "print(c)"
   ]
  },
  {
   "cell_type": "code",
   "execution_count": 22,
   "metadata": {},
   "outputs": [
    {
     "name": "stdout",
     "output_type": "stream",
     "text": [
      "[('lisi', 17), ('zhangsan', 18), ('wangwu', 19)]\n",
      "[('lisi', 17), ('wangwu', 19), ('zhangsan', 18)]\n"
     ]
    }
   ],
   "source": [
    "# 排序的时候还可以自定义排序规则\n",
    "\n",
    "# 元组中第一个元素表示姓名，第二个元素表示年龄\n",
    "people = [(\"zhangsan\", 18), (\"lisi\", 17), (\"wangwu\", 19)]\n",
    "# 按年龄排序\n",
    "people.sort(key=lambda x : x[1])\n",
    "print(people)\n",
    "# 按姓名排序\n",
    "people.sort(key=lambda x : x[0])\n",
    "print(people)"
   ]
  },
  {
   "cell_type": "markdown",
   "metadata": {},
   "source": [
    "#### 列表推导\n",
    "\n",
    "列表推导可把某种操作应用于序列或可迭代对象的每个元素，然后使用操作结果来创建列表. 建议单层循环使用，多层循环不建议使用列表推导，可读性变差."
   ]
  },
  {
   "cell_type": "code",
   "execution_count": 23,
   "metadata": {},
   "outputs": [
    {
     "name": "stdout",
     "output_type": "stream",
     "text": [
      "['HUAWEI', 'XIAOMI', 'OPPO', 'VIVO', 'ONEPLUS', 'MEIZU', 'APPLE', 'SAMSUNG']\n",
      "['HUAWEI', 'XIAOMI', 'OPPO', 'VIVO', 'ONEPLUS', 'MEIZU', 'APPLE']\n"
     ]
    }
   ],
   "source": [
    "phones = [\"huawei\", \"xiaomi\", \"oppo\", \"vivo\", \"oneplus\", \"meizu\", \"apple\", \"samsung\"]\n",
    "\n",
    "# 处理列表中所有元素\n",
    "upper_phones = [phone.upper() for phone in phones]\n",
    "print(upper_phones)\n",
    "\n",
    "# 只处理列表中满足条件的元素\n",
    "upper_phones = [phone.upper() for phone in phones if phone != \"samsung\"]\n",
    "print(upper_phones)"
   ]
  },
  {
   "cell_type": "markdown",
   "metadata": {},
   "source": [
    "### 元组\n",
    "\n",
    "元组是由逗号隔开的元素组成，也可以用括号括起来. 元组是不可变对象"
   ]
  },
  {
   "cell_type": "code",
   "execution_count": 24,
   "metadata": {},
   "outputs": [],
   "source": [
    "# 创建空元组\n",
    "a = ()\n",
    "# 创建空元组\n",
    "b = tuple()\n",
    "c = (1, 2, 3)\n",
    "# 通过列表构造元组\n",
    "d = tuple([1, 2, 3, 4, 5])\n",
    "# 通过可迭代对象构造元组\n",
    "e = tuple(range(10))"
   ]
  },
  {
   "cell_type": "code",
   "execution_count": 25,
   "metadata": {},
   "outputs": [
    {
     "name": "stdout",
     "output_type": "stream",
     "text": [
      "1\n",
      "3\n"
     ]
    }
   ],
   "source": [
    "# 元组解包，以下代码表示将c中的值解包到x, _, y，其中_表示忽略该值\n",
    "x, _, y = c\n",
    "print(x)\n",
    "print(y)"
   ]
  },
  {
   "cell_type": "markdown",
   "metadata": {},
   "source": [
    "与列表一样，以下运算符同样适用于元组，其操作方式是一样的\n",
    "\n",
    "|       运算符       |        描述       |\n",
    "| ------------------------ | ----------------------- |\n",
    "|   `x in s`        |     如果x出现在s中则返回True，否则返回False       |\n",
    "|   `x not in s`        |   如果x没有出现在s中返回True，否则返回False         |\n",
    "|   `s + t`        |     s和t拼接       |\n",
    "|   `s * n`或`n * s`     |    s与自身进行n次拼接        |\n",
    "|   `s[i]`        |     x中索引为i的项，索引从0开始       |\n",
    "|   `s[i:j]`        |     s中索引从i开始，到j-1结束       |\n",
    "|   `s[i:j:k]`        |     s中索引从i到j-1，且步长为k       |\n",
    "|   `len(s)`        |     s中元素数量       |\n",
    "|   `min(s)`        |     s中的最小元素       |\n",
    "|   `max(s)`        |     s中的最大元素       |\n",
    "|   `s.index(x)`        |    x在s中首次出现的索引        |\n",
    "|   `s.count(x)`        |    x在s中出现的次数        |"
   ]
  },
  {
   "cell_type": "markdown",
   "metadata": {},
   "source": [
    "#### 列表与元组的区别与联系\n",
    "\n",
    "- 列表是可变对象，元组是不可变对象，对于列表可以原地修改列表元素，对于元组不能原地修改元组，只能获取修改的副本\n",
    "- 列表和元组之间可以互相转换"
   ]
  },
  {
   "cell_type": "markdown",
   "metadata": {},
   "source": [
    "### `zip`"
   ]
  },
  {
   "cell_type": "code",
   "execution_count": 26,
   "metadata": {},
   "outputs": [
    {
     "name": "stdout",
     "output_type": "stream",
     "text": [
      "[('张三', 17), ('李四', 19), ('王五', 18), ('赵六', 21)]\n"
     ]
    }
   ],
   "source": [
    "# zip函数可以聚合若干可迭代对象并返回一个可迭代对昂\n",
    "\n",
    "name = [\"张三\", \"李四\", \"王五\", \"赵六\"]\n",
    "age = [17, 19, 18, 21]\n",
    "city = [\"北京\", \"上海\", \"广州\", \"深圳\"]\n",
    "\n",
    "# 按顺序聚合name和age，并以列表形式返回结果\n",
    "name_age = list(zip(name, age))\n",
    "print(name_age)"
   ]
  },
  {
   "cell_type": "code",
   "execution_count": 27,
   "metadata": {},
   "outputs": [
    {
     "name": "stdout",
     "output_type": "stream",
     "text": [
      "[('张三', 17, '北京'), ('李四', 19, '上海'), ('王五', 18, '广州'), ('赵六', 21, '深圳')]\n"
     ]
    }
   ],
   "source": [
    "# 可以聚合多个可迭代对象\n",
    "people = list(zip(name, age, city))\n",
    "print(people)"
   ]
  },
  {
   "cell_type": "code",
   "execution_count": 28,
   "metadata": {},
   "outputs": [
    {
     "name": "stdout",
     "output_type": "stream",
     "text": [
      "[('张三', 17, '北京', '男'), ('李四', 19, '上海', '男'), ('王五', 18, '广州', '男'), ('赵六', 21, '深圳', '男')]\n"
     ]
    }
   ],
   "source": [
    "# 列表长度超过其它列表长度，则按顺序从左到右聚合，超出部分不聚合\n",
    "gender = [\"男\", \"男\", \"男\", \"男\", \"女\", \"女\"]\n",
    "people = list(zip(name, age, city, gender))\n",
    "print(people)"
   ]
  },
  {
   "cell_type": "code",
   "execution_count": 29,
   "metadata": {},
   "outputs": [
    {
     "name": "stdout",
     "output_type": "stream",
     "text": [
      "name: 张三, age: 17, city: 北京, gender: 男\n",
      "name: 李四, age: 19, city: 上海, gender: 男\n",
      "name: 王五, age: 18, city: 广州, gender: 男\n",
      "name: 赵六, age: 21, city: 深圳, gender: 男\n"
     ]
    }
   ],
   "source": [
    "# 遍历zip返回的可迭代对象\n",
    "for n, a, c, s in zip(name, age, city, gender):\n",
    "    print(\"name: {}, age: {}, city: {}, gender: {}\".format(n, a, c, s))"
   ]
  },
  {
   "cell_type": "code",
   "execution_count": 30,
   "metadata": {},
   "outputs": [
    {
     "name": "stdout",
     "output_type": "stream",
     "text": [
      "('张三', '李四', '王五', '赵六')\n",
      "(17, 19, 18, 21)\n"
     ]
    }
   ],
   "source": [
    "# zip还可以解包\n",
    "\n",
    "name_age = list(zip(name, age))\n",
    "name2, age2 = zip(*name_age)\n",
    "print(name2)\n",
    "print(age2)"
   ]
  }
 ],
 "metadata": {
  "kernelspec": {
   "display_name": "Python 3",
   "language": "python",
   "name": "python3"
  },
  "language_info": {
   "codemirror_mode": {
    "name": "ipython",
    "version": 3
   },
   "file_extension": ".py",
   "mimetype": "text/x-python",
   "name": "python",
   "nbconvert_exporter": "python",
   "pygments_lexer": "ipython3",
   "version": "3.8.3"
  }
 },
 "nbformat": 4,
 "nbformat_minor": 4
}
