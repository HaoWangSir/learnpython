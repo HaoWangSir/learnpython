{
 "cells": [
  {
   "cell_type": "markdown",
   "metadata": {},
   "source": [
    "### 文件操作\n",
    "\n",
    "在Python中我们使用`open`函数来读写文件，在使用`open`函数时，我们可以通过函数的参数指定**文件名**、**操作模式**和**字符编码**等信息，然后对文件进行读写操作，这里所说的操作模式是指要打开什么样的文件（文本文件或二进制文件）以及做什么样的操作（读、写或追加），具体如下表所示\n",
    "\n",
    "| 操作模式 |   描述                         |\n",
    "| -------- | -------------------------------- |\n",
    "| `'r'`    | 读取 （默认）                    |\n",
    "| `'w'`    | 写入（会先截断之前的内容）       |\n",
    "| `'x'`    | 写入，如果文件已经存在会产生异常 |\n",
    "| `'a'`    | 追加，将内容写入到已有文件的末尾 |\n",
    "| `'b'`    | 二进制模式                       |\n",
    "| `'t'`    | 文本模式（默认）                 |\n",
    "| `'+'`    | 更新（既可以读又可以写）         |\n",
    "\n",
    "下面我们举例来看如何读写文件"
   ]
  },
  {
   "cell_type": "markdown",
   "metadata": {},
   "source": [
    "#### 1. 写文本文件"
   ]
  },
  {
   "cell_type": "code",
   "execution_count": 1,
   "metadata": {},
   "outputs": [],
   "source": [
    "# 第一个参数指定文件名，第二个参数指定操作模式，encoding参数指定文件编码，默认是utf-8编码\n",
    "f = open(\"./data/filename.txt\", \"w\", encoding=\"utf-8\")\n",
    "# 通过write写入内容\n",
    "f.write(\"这是第1行文本\\n\")\n",
    "f.write(\"这是第2行文本\\n\")\n",
    "for i in range(3, 10):\n",
    "    f.write(\"这是第{}行文本\\n\".format(i))\n",
    "# 操作完文件之后要关闭文件\n",
    "f.close()"
   ]
  },
  {
   "cell_type": "markdown",
   "metadata": {},
   "source": [
    "#### 2. 读文本文件"
   ]
  },
  {
   "cell_type": "code",
   "execution_count": 2,
   "metadata": {},
   "outputs": [
    {
     "name": "stdout",
     "output_type": "stream",
     "text": [
      "这是第1行文本\n",
      "这是第2行文本\n",
      "这是第3行文本\n",
      "这是第4行文本\n",
      "这是第5行文本\n",
      "这是第6行文本\n",
      "这是第7行文本\n",
      "这是第8行文本\n",
      "这是第9行文本\n"
     ]
    }
   ],
   "source": [
    "f = open(\"./data/filename.txt\", \"r\", encoding=\"utf-8\")\n",
    "# open返回的是可迭代对象，因而我们可以使用for循环遍历\n",
    "for line in f:\n",
    "    print(line.strip())\n",
    "# 操作完成之后要关闭文件\n",
    "f.close()"
   ]
  },
  {
   "cell_type": "markdown",
   "metadata": {},
   "source": [
    "#### 3. 读二进制文件"
   ]
  },
  {
   "cell_type": "code",
   "execution_count": 3,
   "metadata": {
    "scrolled": true
   },
   "outputs": [],
   "source": [
    "# 指定b选项读取二进制文件\n",
    "f = open(\"./data/test.jpg\", \"rb\")\n",
    "# 读取二进制文件内容\n",
    "data = f.read()\n",
    "f.close()"
   ]
  },
  {
   "cell_type": "markdown",
   "metadata": {},
   "source": [
    "#### 4. 写二进制文件"
   ]
  },
  {
   "cell_type": "code",
   "execution_count": 4,
   "metadata": {},
   "outputs": [],
   "source": [
    "# 指定b选项写入二进制数据\n",
    "f = open(\"./data/other.jpg\", \"wb\")\n",
    "# 将二进制数据写入文件\n",
    "f.write(data)\n",
    "f.close()"
   ]
  },
  {
   "cell_type": "markdown",
   "metadata": {},
   "source": [
    "#### 5. 读写文件最佳实践\n",
    "\n",
    "通常情况下我们会将`open`函数放到`with`上下文中，把`open`放到`with`上下文中最大的好处是我们不需要手动调用`close`关闭文件，因为离开`with`上下文之后会自动调用`close`关闭文件"
   ]
  },
  {
   "cell_type": "code",
   "execution_count": 5,
   "metadata": {},
   "outputs": [
    {
     "name": "stdout",
     "output_type": "stream",
     "text": [
      "这是第1行文本\n",
      "这是第2行文本\n",
      "这是第3行文本\n",
      "这是第4行文本\n",
      "这是第5行文本\n",
      "这是第6行文本\n",
      "这是第7行文本\n",
      "这是第8行文本\n",
      "这是第9行文本\n"
     ]
    }
   ],
   "source": [
    "with open(\"./data/filename.txt\", \"r\", encoding=\"utf-8\") as f:\n",
    "    for line in f:\n",
    "        print(line.strip())\n",
    "        \n",
    "# 在此处，退出with上文之后将会自动关闭文件，我们不需要手动调用close关闭文件"
   ]
  },
  {
   "cell_type": "markdown",
   "metadata": {},
   "source": [
    "### 异常处理\n",
    "\n",
    "即使语句或表达式在语法上正确，但在运行的时候它仍可能引发错误，我们把在运行时检测到的错误称为异常，如上面我们介绍文件操作时，如果我们打开一个不存在的文件将会引发异常，为了让代码具有健壮性和容错性，我们可以使用Python的异常机制对可能在运行时发生状况的代码进行适当的处理，当程序抛出异常时，Python按如下步骤处理异常\n",
    "\n",
    "- 首先执行`try`语句\n",
    "- 如果没有发生异常，则跳过`except`子句并完成`try`语句的执行\n",
    "- 如果在执行`try`子句时发生了异常，则跳过该子句中剩余的部分. 如果发生的异常类型与`except`后面的异常类型匹配，则执行`except`子句\n",
    "- 如果发生的异常和`except`后面跟的异常类型不匹配，则该异常是一个未处理的异常，程序将停止执行\n",
    "\n",
    "下面我们举例来看异常处理用法"
   ]
  },
  {
   "cell_type": "markdown",
   "metadata": {},
   "source": [
    "#### 1. 不处理异常"
   ]
  },
  {
   "cell_type": "code",
   "execution_count": 6,
   "metadata": {},
   "outputs": [
    {
     "name": "stdout",
     "output_type": "stream",
     "text": [
      "输入一个整数: asdf\n"
     ]
    },
    {
     "ename": "ValueError",
     "evalue": "invalid literal for int() with base 10: 'asdf'",
     "output_type": "error",
     "traceback": [
      "\u001b[0;31m---------------------------------------------------------------------------\u001b[0m",
      "\u001b[0;31mValueError\u001b[0m                                Traceback (most recent call last)",
      "\u001b[0;32m<ipython-input-6-357be4b36add>\u001b[0m in \u001b[0;36m<module>\u001b[0;34m\u001b[0m\n\u001b[1;32m      1\u001b[0m \u001b[0;31m# 捕获用户输入并将其转换为整数，可以试试输入整数和字符串，当输入数据无法转换为int时将抛出ValueError异常\u001b[0m\u001b[0;34m\u001b[0m\u001b[0;34m\u001b[0m\u001b[0;34m\u001b[0m\u001b[0m\n\u001b[1;32m      2\u001b[0m \u001b[0;31m# 如果不处理异常将导致程序终止，后续代码都不会执行\u001b[0m\u001b[0;34m\u001b[0m\u001b[0;34m\u001b[0m\u001b[0;34m\u001b[0m\u001b[0m\n\u001b[0;32m----> 3\u001b[0;31m \u001b[0mx\u001b[0m \u001b[0;34m=\u001b[0m \u001b[0mint\u001b[0m\u001b[0;34m(\u001b[0m\u001b[0minput\u001b[0m\u001b[0;34m(\u001b[0m\u001b[0;34m\"输入一个整数: \"\u001b[0m\u001b[0;34m)\u001b[0m\u001b[0;34m)\u001b[0m\u001b[0;34m\u001b[0m\u001b[0;34m\u001b[0m\u001b[0m\n\u001b[0m\u001b[1;32m      4\u001b[0m \u001b[0my\u001b[0m \u001b[0;34m=\u001b[0m \u001b[0mx\u001b[0m \u001b[0;34m*\u001b[0m \u001b[0mx\u001b[0m\u001b[0;34m\u001b[0m\u001b[0;34m\u001b[0m\u001b[0m\n\u001b[1;32m      5\u001b[0m \u001b[0mprint\u001b[0m\u001b[0;34m(\u001b[0m\u001b[0;34m\"y = {}\"\u001b[0m\u001b[0;34m.\u001b[0m\u001b[0mformat\u001b[0m\u001b[0;34m(\u001b[0m\u001b[0my\u001b[0m\u001b[0;34m)\u001b[0m\u001b[0;34m)\u001b[0m\u001b[0;34m\u001b[0m\u001b[0;34m\u001b[0m\u001b[0m\n",
      "\u001b[0;31mValueError\u001b[0m: invalid literal for int() with base 10: 'asdf'"
     ]
    }
   ],
   "source": [
    "# 捕获用户输入并将其转换为整数，可以试试输入整数和字符串，当输入数据无法转换为int时将抛出ValueError异常\n",
    "# 如果不处理异常将导致程序终止，后续代码都不会执行\n",
    "x = int(input(\"输入一个整数: \"))\n",
    "y = x * x\n",
    "print(\"y = {}\".format(y))"
   ]
  },
  {
   "cell_type": "markdown",
   "metadata": {},
   "source": [
    "#### 2. 异常处理与实际抛出异常匹配"
   ]
  },
  {
   "cell_type": "code",
   "execution_count": 7,
   "metadata": {},
   "outputs": [
    {
     "name": "stdout",
     "output_type": "stream",
     "text": [
      "输入一个整数: asdf\n",
      "输入异常，你输入的不是一个整数\n"
     ]
    }
   ],
   "source": [
    "try:\n",
    "    # 捕获用户输入并将其转换为整数，可以试试输入整数和字符串，当输入数据无法转换为int时将抛出ValueError异常\n",
    "    x = int(input(\"输入一个整数: \"))\n",
    "    y = x * x\n",
    "    print(\"y = {}\".format(y))\n",
    "except ValueError:\n",
    "    # 如果抛出了ValueError异常，那么在抛出异常后继续执行此处的逻辑，此处一般编写异常处理代码\n",
    "    print(\"输入异常，你输入的不是一个整数\")"
   ]
  },
  {
   "cell_type": "markdown",
   "metadata": {},
   "source": [
    "#### 3. 异常处理与实际抛出异常不匹配"
   ]
  },
  {
   "cell_type": "code",
   "execution_count": 8,
   "metadata": {},
   "outputs": [
    {
     "name": "stdout",
     "output_type": "stream",
     "text": [
      "输入一个整数: asdf\n"
     ]
    },
    {
     "ename": "ValueError",
     "evalue": "invalid literal for int() with base 10: 'asdf'",
     "output_type": "error",
     "traceback": [
      "\u001b[0;31m---------------------------------------------------------------------------\u001b[0m",
      "\u001b[0;31mValueError\u001b[0m                                Traceback (most recent call last)",
      "\u001b[0;32m<ipython-input-8-54fca9499a61>\u001b[0m in \u001b[0;36m<module>\u001b[0;34m\u001b[0m\n\u001b[1;32m      1\u001b[0m \u001b[0;32mtry\u001b[0m\u001b[0;34m:\u001b[0m\u001b[0;34m\u001b[0m\u001b[0;34m\u001b[0m\u001b[0m\n\u001b[0;32m----> 2\u001b[0;31m     \u001b[0mx\u001b[0m \u001b[0;34m=\u001b[0m \u001b[0mint\u001b[0m\u001b[0;34m(\u001b[0m\u001b[0minput\u001b[0m\u001b[0;34m(\u001b[0m\u001b[0;34m\"输入一个整数: \"\u001b[0m\u001b[0;34m)\u001b[0m\u001b[0;34m)\u001b[0m\u001b[0;34m\u001b[0m\u001b[0;34m\u001b[0m\u001b[0m\n\u001b[0m\u001b[1;32m      3\u001b[0m     \u001b[0my\u001b[0m \u001b[0;34m=\u001b[0m \u001b[0mx\u001b[0m \u001b[0;34m*\u001b[0m \u001b[0mx\u001b[0m\u001b[0;34m\u001b[0m\u001b[0;34m\u001b[0m\u001b[0m\n\u001b[1;32m      4\u001b[0m     \u001b[0mprint\u001b[0m\u001b[0;34m(\u001b[0m\u001b[0;34m\"y = {}\"\u001b[0m\u001b[0;34m.\u001b[0m\u001b[0mformat\u001b[0m\u001b[0;34m(\u001b[0m\u001b[0my\u001b[0m\u001b[0;34m)\u001b[0m\u001b[0;34m)\u001b[0m\u001b[0;34m\u001b[0m\u001b[0;34m\u001b[0m\u001b[0m\n\u001b[1;32m      5\u001b[0m \u001b[0;32mexcept\u001b[0m \u001b[0mZeroDivisionError\u001b[0m\u001b[0;34m:\u001b[0m\u001b[0;34m\u001b[0m\u001b[0;34m\u001b[0m\u001b[0m\n",
      "\u001b[0;31mValueError\u001b[0m: invalid literal for int() with base 10: 'asdf'"
     ]
    }
   ],
   "source": [
    "try:\n",
    "    x = int(input(\"输入一个整数: \"))\n",
    "    y = x * x\n",
    "    print(\"y = {}\".format(y))\n",
    "except ZeroDivisionError:\n",
    "    # 这里捕获的是ZeroDivisionError，而该程序抛出的是ValueError，异常类型不匹配，因而不会处理ValueError\n",
    "    print(\"异常类型不匹配，程序终止\")"
   ]
  },
  {
   "cell_type": "markdown",
   "metadata": {},
   "source": [
    "#### 4. 不显式指定异常类型"
   ]
  },
  {
   "cell_type": "code",
   "execution_count": 9,
   "metadata": {},
   "outputs": [
    {
     "name": "stdout",
     "output_type": "stream",
     "text": [
      "输入一个整数: asdf\n",
      "except后面没有指定异常类型，则可以处理任意类型的异常\n"
     ]
    }
   ],
   "source": [
    "try:\n",
    "    x = int(input(\"输入一个整数: \"))\n",
    "    y = x * x\n",
    "    print(\"y = {}\".format(y))\n",
    "except:\n",
    "    # except后面未指定任何异常类型则表示捕获所有类型的异常\n",
    "    print(\"except后面没有指定异常类型，则可以处理任意类型的异常\")"
   ]
  },
  {
   "cell_type": "markdown",
   "metadata": {},
   "source": [
    "#### 5. 显式处理多种异常"
   ]
  },
  {
   "cell_type": "code",
   "execution_count": 10,
   "metadata": {},
   "outputs": [
    {
     "name": "stdout",
     "output_type": "stream",
     "text": [
      "输入一个整数: asdf\n",
      "如果发生了ValueError则在这里处理\n"
     ]
    }
   ],
   "source": [
    "try:\n",
    "    x = int(input(\"输入一个整数: \"))\n",
    "    y = x * x\n",
    "    print(\"y = {}\".format(y))\n",
    "except OSError:\n",
    "    print(\"如果发生了OSError则在这里处理\")\n",
    "except ValueError:\n",
    "    print(\"如果发生了ValueError则在这里处理\")\n",
    "except TypeError:\n",
    "    print(\"如果发生了TypeError则在这里处理\")\n",
    "except:\n",
    "    print(\"还可以重新抛出异常，在Python中使用raise抛出异常\")\n",
    "    raise"
   ]
  },
  {
   "cell_type": "markdown",
   "metadata": {},
   "source": [
    "在Python中使用`raise`抛出异常，`raise`后面可以跟异常类型"
   ]
  },
  {
   "cell_type": "code",
   "execution_count": 11,
   "metadata": {},
   "outputs": [
    {
     "name": "stdout",
     "output_type": "stream",
     "text": [
      "好的，收到ValueError，这就处理\n"
     ]
    }
   ],
   "source": [
    "try:\n",
    "    # 手动抛出异常\n",
    "    raise ValueError(\"这是一个ValueError，准备好处理它吧\")\n",
    "except ValueError:\n",
    "    print(\"好的，收到ValueError，这就处理\")"
   ]
  },
  {
   "cell_type": "markdown",
   "metadata": {},
   "source": [
    "在处理异常的时候，我们还可以添加`finally`做一些后处理逻辑"
   ]
  },
  {
   "cell_type": "code",
   "execution_count": 12,
   "metadata": {},
   "outputs": [
    {
     "name": "stdout",
     "output_type": "stream",
     "text": [
      "输入一个整数: asadf\n",
      "输入异常，你输入的不是一个整数\n",
      "不管有没有发生异常都要执行finally中的代码\n"
     ]
    }
   ],
   "source": [
    "try:\n",
    "    x = int(input(\"输入一个整数: \"))\n",
    "    y = x * x\n",
    "    print(\"y = {}\".format(y))\n",
    "except ValueError:\n",
    "    print(\"输入异常，你输入的不是一个整数\")\n",
    "finally:\n",
    "    # 不管有没有发生异常，在执行完try内的代码之后，最终都要执行finally内的代码\n",
    "    # 典型的应用场景是在发生异常后我们需要关闭数据库连接，网络连接，关闭文件等等，这些操作比较适合写在finally中\n",
    "    print(\"不管有没有发生异常都要执行finally中的代码\")"
   ]
  },
  {
   "cell_type": "markdown",
   "metadata": {},
   "source": [
    "以下为Python内置的异常"
   ]
  },
  {
   "cell_type": "markdown",
   "metadata": {},
   "source": [
    "```txt\n",
    "BaseException\n",
    " +-- SystemExit\n",
    " +-- KeyboardInterrupt\n",
    " +-- GeneratorExit\n",
    " +-- Exception\n",
    "      +-- StopIteration\n",
    "      +-- StopAsyncIteration\n",
    "      +-- ArithmeticError\n",
    "      |    +-- FloatingPointError\n",
    "      |    +-- OverflowError\n",
    "      |    +-- ZeroDivisionError\n",
    "      +-- AssertionError\n",
    "      +-- AttributeError\n",
    "      +-- BufferError\n",
    "      +-- EOFError\n",
    "      +-- ImportError\n",
    "      |    +-- ModuleNotFoundError\n",
    "      +-- LookupError\n",
    "      |    +-- IndexError\n",
    "      |    +-- KeyError\n",
    "      +-- MemoryError\n",
    "      +-- NameError\n",
    "      |    +-- UnboundLocalError\n",
    "      +-- OSError\n",
    "      |    +-- BlockingIOError\n",
    "      |    +-- ChildProcessError\n",
    "      |    +-- ConnectionError\n",
    "      |    |    +-- BrokenPipeError\n",
    "      |    |    +-- ConnectionAbortedError\n",
    "      |    |    +-- ConnectionRefusedError\n",
    "      |    |    +-- ConnectionResetError\n",
    "      |    +-- FileExistsError\n",
    "      |    +-- FileNotFoundError\n",
    "      |    +-- InterruptedError\n",
    "      |    +-- IsADirectoryError\n",
    "      |    +-- NotADirectoryError\n",
    "      |    +-- PermissionError\n",
    "      |    +-- ProcessLookupError\n",
    "      |    +-- TimeoutError\n",
    "      +-- ReferenceError\n",
    "      +-- RuntimeError\n",
    "      |    +-- NotImplementedError\n",
    "      |    +-- RecursionError\n",
    "      +-- SyntaxError\n",
    "      |    +-- IndentationError\n",
    "      |         +-- TabError\n",
    "      +-- SystemError\n",
    "      +-- TypeError\n",
    "      +-- ValueError\n",
    "      |    +-- UnicodeError\n",
    "      |         +-- UnicodeDecodeError\n",
    "      |         +-- UnicodeEncodeError\n",
    "      |         +-- UnicodeTranslateError\n",
    "      +-- Warning\n",
    "           +-- DeprecationWarning\n",
    "           +-- PendingDeprecationWarning\n",
    "           +-- RuntimeWarning\n",
    "           +-- SyntaxWarning\n",
    "           +-- UserWarning\n",
    "           +-- FutureWarning\n",
    "           +-- ImportWarning\n",
    "           +-- UnicodeWarning\n",
    "           +-- BytesWarning\n",
    "           +-- ResourceWarning\n",
    "```          "
   ]
  },
  {
   "cell_type": "markdown",
   "metadata": {},
   "source": [
    "除了使用Python内置的异常外，我们还可以自定义异常，自定义异常时我们需要继承`Exception`类"
   ]
  },
  {
   "cell_type": "code",
   "execution_count": 13,
   "metadata": {},
   "outputs": [
    {
     "name": "stdout",
     "output_type": "stream",
     "text": [
      "ok, 捕获到MyException异常，接下来处理MyException异常\n"
     ]
    }
   ],
   "source": [
    "class MyException(Exception):\n",
    "    \"\"\"定义一个简单的自定义异常类型\"\"\"\n",
    "    pass\n",
    "    \n",
    "try:\n",
    "    # 在try中抛出MyException异常\n",
    "    raise MyException(\"抛出MyException异常\")\n",
    "except MyException:\n",
    "    # 在此处处理MyException异常\n",
    "    print(\"ok, 捕获到MyException异常，接下来处理MyException异常\")"
   ]
  }
 ],
 "metadata": {
  "kernelspec": {
   "display_name": "Python 3",
   "language": "python",
   "name": "python3"
  },
  "language_info": {
   "codemirror_mode": {
    "name": "ipython",
    "version": 3
   },
   "file_extension": ".py",
   "mimetype": "text/x-python",
   "name": "python",
   "nbconvert_exporter": "python",
   "pygments_lexer": "ipython3",
   "version": "3.8.3"
  }
 },
 "nbformat": 4,
 "nbformat_minor": 4
}
