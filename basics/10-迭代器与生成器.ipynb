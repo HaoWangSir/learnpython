{
 "cells": [
  {
   "cell_type": "markdown",
   "metadata": {},
   "source": [
    "### 迭代器与可迭代对象\n",
    "\n",
    "在Python中支持在容器中进行迭代的概念. 这是通过`__iter__()`和`__next__()`两个方法来实现的，在Python中任意对象只要定义了`__iter__()`和`__next__()`这两个方法则该对象就是可迭代对象\n",
    "\n",
    "- `__iter__()`: 返回一个可迭代对象\n",
    "\n",
    "- `__next__()`: 返回可迭代对象中的下一项值\n",
    "\n",
    "我们既可以通过`for`循环迭代，也可以通过`iter`和`next`迭代对象，迭代器的`__next__()`触发了`StopIteration`异常时将停止迭代"
   ]
  },
  {
   "cell_type": "code",
   "execution_count": 9,
   "metadata": {},
   "outputs": [
    {
     "name": "stdout",
     "output_type": "stream",
     "text": [
      "1\n",
      "3\n",
      "5\n",
      "7\n",
      "9\n",
      "2\n",
      "4\n",
      "6\n",
      "8\n",
      "10\n",
      "H\n",
      "e\n",
      "l\n",
      "l\n",
      "o\n",
      "key: one, value: 1\n",
      "key: two, value: 2\n",
      "key: three, value: 3\n",
      "1\n",
      "2\n",
      "3\n",
      "这是第1行文本\n",
      "这是第2行文本\n",
      "这是第3行文本\n",
      "这是第4行文本\n",
      "这是第5行文本\n",
      "这是第6行文本\n",
      "这是第7行文本\n",
      "这是第8行文本\n",
      "这是第9行文本\n"
     ]
    }
   ],
   "source": [
    "# 通过for循环迭代\n",
    "\n",
    "# 列表是可迭代对象\n",
    "a = [1, 3, 5, 7, 9]\n",
    "for v in a:\n",
    "    print(v)\n",
    "    \n",
    "# 元组是可迭代对象\n",
    "b = (2, 4, 6, 8, 10)\n",
    "for v in b:\n",
    "    print(v)\n",
    "    \n",
    "# 字符串是可迭代对象\n",
    "c = \"Hello\"\n",
    "for v in c:\n",
    "    print(v)\n",
    "    \n",
    "# 字典是可迭代对象\n",
    "d = {\"one\": 1, \"two\": 2, \"three\": 3}\n",
    "for k, v in d.items():\n",
    "    print(\"key: {}, value: {}\".format(k, v))\n",
    "    \n",
    "# 集合是可迭代对象\n",
    "e = set([1, 2, 3])\n",
    "for v in e:\n",
    "    print(v)\n",
    "    \n",
    "# open()返回的是可迭代对象\n",
    "f = open(\"./data/filename.txt\")\n",
    "for line in f:\n",
    "    print(line.strip())"
   ]
  },
  {
   "cell_type": "code",
   "execution_count": 10,
   "metadata": {},
   "outputs": [
    {
     "name": "stdout",
     "output_type": "stream",
     "text": [
      "1\n",
      "2\n",
      "3\n",
      "4\n",
      "5\n"
     ]
    },
    {
     "ename": "StopIteration",
     "evalue": "",
     "output_type": "error",
     "traceback": [
      "\u001b[0;31m---------------------------------------------------------------------------\u001b[0m",
      "\u001b[0;31mStopIteration\u001b[0m                             Traceback (most recent call last)",
      "\u001b[0;32m<ipython-input-10-4cca9f025971>\u001b[0m in \u001b[0;36m<module>\u001b[0;34m\u001b[0m\n\u001b[1;32m     12\u001b[0m \u001b[0mprint\u001b[0m\u001b[0;34m(\u001b[0m\u001b[0mnext\u001b[0m\u001b[0;34m(\u001b[0m\u001b[0mit\u001b[0m\u001b[0;34m)\u001b[0m\u001b[0;34m)\u001b[0m\u001b[0;34m\u001b[0m\u001b[0;34m\u001b[0m\u001b[0m\n\u001b[1;32m     13\u001b[0m \u001b[0;31m# 迭代到容器末尾之后继续调用next将抛出StopIteration异常\u001b[0m\u001b[0;34m\u001b[0m\u001b[0;34m\u001b[0m\u001b[0;34m\u001b[0m\u001b[0m\n\u001b[0;32m---> 14\u001b[0;31m \u001b[0mprint\u001b[0m\u001b[0;34m(\u001b[0m\u001b[0mnext\u001b[0m\u001b[0;34m(\u001b[0m\u001b[0mit\u001b[0m\u001b[0;34m)\u001b[0m\u001b[0;34m)\u001b[0m\u001b[0;34m\u001b[0m\u001b[0;34m\u001b[0m\u001b[0m\n\u001b[0m",
      "\u001b[0;31mStopIteration\u001b[0m: "
     ]
    }
   ],
   "source": [
    "# 通过iter和next迭代\n",
    "\n",
    "a = [1, 2, 3, 4, 5]\n",
    "# 通过iter()获取对象的迭代器\n",
    "it = iter(a)\n",
    "\n",
    "# 通过next()获取迭代器中的元素，每次调用next都会返回迭代器中的下一项\n",
    "print(next(it))\n",
    "print(next(it))\n",
    "print(next(it))\n",
    "print(next(it))\n",
    "print(next(it))\n",
    "# 迭代到容器末尾之后继续调用next将抛出StopIteration异常\n",
    "print(next(it))"
   ]
  },
  {
   "cell_type": "markdown",
   "metadata": {},
   "source": [
    "下面我们通过实现`__iter__()`和`__next__()`自定义一个简单的可迭代对象"
   ]
  },
  {
   "cell_type": "code",
   "execution_count": 11,
   "metadata": {},
   "outputs": [],
   "source": [
    "class SimpleArray:\n",
    "    \"\"\"定义一个简单的数组\"\"\"\n",
    "    def __init__(self, n):\n",
    "        # 记录内部数据\n",
    "        self.data = list(range(n))\n",
    "        # 当前索引\n",
    "        self.idx = 0\n",
    "        \n",
    "    def __iter__(self):\n",
    "        \"\"\"返回可迭代对象，通常返回self即可\"\"\"\n",
    "        return self\n",
    "    \n",
    "    def __next__(self):\n",
    "        \"\"\"实现迭代该对象时如何返回数据\"\"\"\n",
    "        # 如果遍历到数据末尾则抛出StopIteration异常\n",
    "        if self.idx == len(self.data):\n",
    "            raise StopIteration\n",
    "        item = self.data[self.idx]\n",
    "        # 更新索引\n",
    "        self.idx += 1\n",
    "        # 返回数据\n",
    "        return item"
   ]
  },
  {
   "cell_type": "code",
   "execution_count": 12,
   "metadata": {},
   "outputs": [
    {
     "name": "stdout",
     "output_type": "stream",
     "text": [
      "0\n",
      "1\n",
      "2\n",
      "3\n",
      "4\n",
      "5\n",
      "6\n",
      "7\n",
      "8\n",
      "9\n"
     ]
    }
   ],
   "source": [
    "n = 10\n",
    "\n",
    "# 构造数组\n",
    "arr = SimpleArray(n)\n",
    "\n",
    "# 通过for循环迭代数组\n",
    "for v in arr:\n",
    "    print(v)"
   ]
  },
  {
   "cell_type": "code",
   "execution_count": 13,
   "metadata": {},
   "outputs": [
    {
     "name": "stdout",
     "output_type": "stream",
     "text": [
      "0\n",
      "1\n",
      "2\n"
     ]
    }
   ],
   "source": [
    "# 构造数组\n",
    "arr = SimpleArray(n)\n",
    "\n",
    "# 通过iter和next迭代数组\n",
    "it = iter(arr)\n",
    "print(next(it))\n",
    "print(next(it))\n",
    "print(next(it))"
   ]
  },
  {
   "cell_type": "markdown",
   "metadata": {},
   "source": [
    "### 生成器\n",
    "\n",
    "生成器是一个用于创建迭代器的简单而强大的工具，其写法类似函数，但生成器通过`yield`返回数据而不是`return`，生成器会自动创建`__iter__`和`__next__`，除了自动创建方法和保存状态外，当生成器结束时还会自动引发`StopIteration`异常，从而终止循环，下面我们通过使用生成器实现和上面`SimpleArray`相同的功能"
   ]
  },
  {
   "cell_type": "code",
   "execution_count": 14,
   "metadata": {},
   "outputs": [],
   "source": [
    "def simple_array(n):\n",
    "    for i in range(n):\n",
    "        # 使用yield而不是return\n",
    "        yield i"
   ]
  },
  {
   "cell_type": "code",
   "execution_count": 15,
   "metadata": {},
   "outputs": [
    {
     "name": "stdout",
     "output_type": "stream",
     "text": [
      "0\n",
      "1\n",
      "2\n",
      "3\n",
      "4\n",
      "5\n",
      "6\n",
      "7\n",
      "8\n",
      "9\n"
     ]
    }
   ],
   "source": [
    "n = 10\n",
    "\n",
    "# 通过for循环迭代生成器\n",
    "for v in simple_array(n):\n",
    "    print(v)"
   ]
  },
  {
   "cell_type": "code",
   "execution_count": 8,
   "metadata": {},
   "outputs": [
    {
     "name": "stdout",
     "output_type": "stream",
     "text": [
      "0\n",
      "1\n",
      "2\n"
     ]
    }
   ],
   "source": [
    "# 通过iter和next迭代生成器\n",
    "\n",
    "it = iter(simple_array(n))\n",
    "print(next(it))\n",
    "print(next(it))\n",
    "print(next(it))"
   ]
  }
 ],
 "metadata": {
  "kernelspec": {
   "display_name": "Python 3",
   "language": "python",
   "name": "python3"
  },
  "language_info": {
   "codemirror_mode": {
    "name": "ipython",
    "version": 3
   },
   "file_extension": ".py",
   "mimetype": "text/x-python",
   "name": "python",
   "nbconvert_exporter": "python",
   "pygments_lexer": "ipython3",
   "version": "3.8.3"
  }
 },
 "nbformat": 4,
 "nbformat_minor": 4
}
