{
 "cells": [
  {
   "cell_type": "markdown",
   "metadata": {},
   "source": [
    "### 字典定义与构造\n",
    "\n",
    "字典是一种键值组合类型，每个元素由`:`分隔的两个值构成，`:`前面是键，`:`后面是值，关键字通常是字符串或者数字，值可以是任意类型. 通常使用大括号或者`dict()`构造字典."
   ]
  },
  {
   "cell_type": "code",
   "execution_count": 1,
   "metadata": {},
   "outputs": [
    {
     "name": "stdout",
     "output_type": "stream",
     "text": [
      "{'apple': '红色', 'banana': '黄色', 'pear': '黄色'}\n",
      "{'\"sape\"': 4139, '\"guido\"': 4127, '\"jack\"': 4098}\n",
      "{'name': '张三', 'age': 18, 'gender': '男'}\n",
      "{'张三': '北京', '李四': '上海', '王五': '广州', '赵六': '深圳'}\n"
     ]
    }
   ],
   "source": [
    "# a和b是空字典\n",
    "a = {}\n",
    "b = dict()\n",
    "# 使用键值对初始化字典\n",
    "c = {\n",
    "    \"apple\": \"红色\",\n",
    "    \"banana\": \"黄色\",\n",
    "    \"pear\": \"黄色\", \n",
    "}\n",
    "\n",
    "# 使用元组列表初始化字典\n",
    "d = dict([('\"sape\"', 4139), ('\"guido\"', 4127), ('\"jack\"', 4098)])\n",
    "\n",
    "# dict()构造函数中每组关键字参数就是字典中的一组键值对\n",
    "e = dict(name=\"张三\", age=18, gender=\"男\")\n",
    "\n",
    "# 通过zip聚合的可迭代对象构造\n",
    "f = dict(zip([\"张三\", \"李四\", \"王五\", \"赵六\"], [\"北京\", \"上海\", \"广州\", \"深圳\"]))\n",
    "\n",
    "print(c)\n",
    "print(d)\n",
    "print(e)\n",
    "print(f)"
   ]
  },
  {
   "cell_type": "markdown",
   "metadata": {},
   "source": [
    "### 字典操作"
   ]
  },
  {
   "cell_type": "code",
   "execution_count": 2,
   "metadata": {},
   "outputs": [],
   "source": [
    "d = dict(zip([\"张三\", \"李四\", \"王五\", \"赵六\"], [\"北京\", \"上海\", \"广州\", \"深圳\"]))"
   ]
  },
  {
   "cell_type": "code",
   "execution_count": 3,
   "metadata": {},
   "outputs": [
    {
     "name": "stdout",
     "output_type": "stream",
     "text": [
      "['张三', '李四', '王五', '赵六']\n"
     ]
    }
   ],
   "source": [
    "# list(d)获取字典所有key的列表\n",
    "print(list(d))"
   ]
  },
  {
   "cell_type": "code",
   "execution_count": 4,
   "metadata": {},
   "outputs": [
    {
     "name": "stdout",
     "output_type": "stream",
     "text": [
      "4\n"
     ]
    }
   ],
   "source": [
    "# len(d)获取字典元素数量\n",
    "print(len(d))"
   ]
  },
  {
   "cell_type": "code",
   "execution_count": 5,
   "metadata": {},
   "outputs": [
    {
     "name": "stdout",
     "output_type": "stream",
     "text": [
      "北京\n"
     ]
    },
    {
     "ename": "KeyError",
     "evalue": "'隔壁老王'",
     "output_type": "error",
     "traceback": [
      "\u001b[0;31m---------------------------------------------------------------------------\u001b[0m",
      "\u001b[0;31mKeyError\u001b[0m                                  Traceback (most recent call last)",
      "\u001b[0;32m<ipython-input-5-b99b8965b8a6>\u001b[0m in \u001b[0;36m<module>\u001b[0;34m\u001b[0m\n\u001b[1;32m      2\u001b[0m \u001b[0mprint\u001b[0m\u001b[0;34m(\u001b[0m\u001b[0md\u001b[0m\u001b[0;34m[\u001b[0m\u001b[0;34m\"张三\"\u001b[0m\u001b[0;34m]\u001b[0m\u001b[0;34m)\u001b[0m\u001b[0;34m\u001b[0m\u001b[0;34m\u001b[0m\u001b[0m\n\u001b[1;32m      3\u001b[0m \u001b[0;31m# 访问不存在的key将抛出KeyError异常\u001b[0m\u001b[0;34m\u001b[0m\u001b[0;34m\u001b[0m\u001b[0;34m\u001b[0m\u001b[0m\n\u001b[0;32m----> 4\u001b[0;31m \u001b[0mprint\u001b[0m\u001b[0;34m(\u001b[0m\u001b[0md\u001b[0m\u001b[0;34m[\u001b[0m\u001b[0;34m\"隔壁老王\"\u001b[0m\u001b[0;34m]\u001b[0m\u001b[0;34m)\u001b[0m\u001b[0;34m\u001b[0m\u001b[0;34m\u001b[0m\u001b[0m\n\u001b[0m",
      "\u001b[0;31mKeyError\u001b[0m: '隔壁老王'"
     ]
    }
   ],
   "source": [
    "# d[key]获取key对应的value，如果key不存在则会抛出KeyError异常\n",
    "print(d[\"张三\"])\n",
    "# 访问不存在的key将抛出KeyError异常\n",
    "print(d[\"隔壁老王\"])"
   ]
  },
  {
   "cell_type": "code",
   "execution_count": 6,
   "metadata": {},
   "outputs": [
    {
     "name": "stdout",
     "output_type": "stream",
     "text": [
      "{'张三': '杭州', '李四': '上海', '王五': '广州', '赵六': '深圳', '老王': '南京'}\n"
     ]
    }
   ],
   "source": [
    "# 修改key对应的value\n",
    "d[\"张三\"] = \"杭州\"\n",
    "# 如果key不存在则添加这对key value到字典中\n",
    "d[\"老王\"] = \"南京\"\n",
    "print(d)"
   ]
  },
  {
   "cell_type": "code",
   "execution_count": 7,
   "metadata": {},
   "outputs": [
    {
     "name": "stdout",
     "output_type": "stream",
     "text": [
      "杭州\n",
      "{'张三': '杭州', '李四': '上海', '王五': '广州', '赵六': '深圳', '老王': '南京', '小王': '成都'}\n"
     ]
    }
   ],
   "source": [
    "# 判断key是否在字典中\n",
    "if \"张三\" in d:\n",
    "    print(d[\"张三\"])\n",
    "    \n",
    "# 判断key是否不在字典中\n",
    "if \"小王\" not in d:\n",
    "    d[\"小王\"] = \"成都\"\n",
    "print(d)"
   ]
  },
  {
   "cell_type": "markdown",
   "metadata": {},
   "source": [
    "`get(key[,default])`如果 `key` 存在于字典中则返回 `key `对应的值，否则返回 `default`。 如果 `default` 未给出则默认为 `None`，因而此方法绝不会引发` KeyError`"
   ]
  },
  {
   "cell_type": "code",
   "execution_count": 8,
   "metadata": {},
   "outputs": [
    {
     "name": "stdout",
     "output_type": "stream",
     "text": [
      "北京\n",
      "None\n"
     ]
    }
   ],
   "source": [
    "# 老张虽然不在字典中，但是可以给定默认值\n",
    "print(d.get(\"老张\", \"北京\"))\n",
    "# 小张不在字典中，且未给定默认值，则默认返回None\n",
    "print(d.get(\"小张\"))"
   ]
  },
  {
   "cell_type": "code",
   "execution_count": 9,
   "metadata": {},
   "outputs": [
    {
     "name": "stdout",
     "output_type": "stream",
     "text": [
      "key: 张三, value: 杭州\n",
      "key: 李四, value: 上海\n",
      "key: 王五, value: 广州\n",
      "key: 赵六, value: 深圳\n",
      "key: 老王, value: 南京\n",
      "key: 小王, value: 成都\n"
     ]
    }
   ],
   "source": [
    "# 遍历字典\n",
    "for key in d:\n",
    "    print(\"key: {}, value: {}\".format(key, d[key]))"
   ]
  },
  {
   "cell_type": "code",
   "execution_count": 10,
   "metadata": {},
   "outputs": [
    {
     "name": "stdout",
     "output_type": "stream",
     "text": [
      "key: 张三, value: 杭州\n",
      "key: 李四, value: 上海\n",
      "key: 王五, value: 广州\n",
      "key: 赵六, value: 深圳\n",
      "key: 老王, value: 南京\n",
      "key: 小王, value: 成都\n"
     ]
    }
   ],
   "source": [
    "# 通过items()遍历字典\n",
    "for key, value in d.items():\n",
    "    print(\"key: {}, value: {}\".format(key, value))"
   ]
  },
  {
   "cell_type": "code",
   "execution_count": 11,
   "metadata": {},
   "outputs": [
    {
     "name": "stdout",
     "output_type": "stream",
     "text": [
      "['张三', '李四', '王五', '赵六', '老王', '小王']\n"
     ]
    }
   ],
   "source": [
    "# keys()返回由字典键组成的一个新视图\n",
    "print(list(d.keys()))"
   ]
  },
  {
   "cell_type": "code",
   "execution_count": 12,
   "metadata": {},
   "outputs": [
    {
     "name": "stdout",
     "output_type": "stream",
     "text": [
      "['杭州', '上海', '广州', '深圳', '南京', '成都']\n"
     ]
    }
   ],
   "source": [
    "# values()返回由字典值组成的一个新视图\n",
    "print(list(d.values()))"
   ]
  },
  {
   "cell_type": "code",
   "execution_count": 13,
   "metadata": {},
   "outputs": [
    {
     "name": "stdout",
     "output_type": "stream",
     "text": [
      "{'张三': '西安', '李四': '武汉', '王五': '广州', '赵六': '深圳', '老王': '南京', '小王': '成都'}\n"
     ]
    }
   ],
   "source": [
    "# update(other)使用来自other的键值对更新字典，并覆盖原有的键\n",
    "other = {\"张三\": \"西安\", \"李四\": \"武汉\"}\n",
    "d.update(other)\n",
    "# 从输出结果我们看到张三李四对应的value发生的更新\n",
    "print(d)"
   ]
  },
  {
   "cell_type": "code",
   "execution_count": 14,
   "metadata": {},
   "outputs": [
    {
     "name": "stdout",
     "output_type": "stream",
     "text": [
      "{'张三': '西安', '李四': '武汉', '王五': '广州', '赵六': '深圳', '老王': '南京'}\n"
     ]
    }
   ],
   "source": [
    "# 从字典中删除一个元素\n",
    "del d[\"小王\"]\n",
    "print(d)"
   ]
  },
  {
   "cell_type": "markdown",
   "metadata": {},
   "source": [
    "`pop(key[, default])`如果` key` 存在于字典中则将其移除并返回其值，否则返回 `default`。 如果 `default` 未给出且 `key` 不存在于字典中，则会引发`KeyError`，与`get`的区别在于`get`不会删除元素，而`pop`会删除元素"
   ]
  },
  {
   "cell_type": "code",
   "execution_count": 15,
   "metadata": {},
   "outputs": [
    {
     "name": "stdout",
     "output_type": "stream",
     "text": [
      "西安\n",
      "成都\n"
     ]
    }
   ],
   "source": [
    "# 删除张三对应的键值对，并返回张三对应的value\n",
    "val = d.pop(\"张三\")\n",
    "print(val)\n",
    "# 小王不在字典中，但是可以返回给定的默认值\n",
    "val2 = d.pop(\"小王\", \"成都\")\n",
    "print(val2)"
   ]
  },
  {
   "cell_type": "code",
   "execution_count": 16,
   "metadata": {},
   "outputs": [
    {
     "name": "stdout",
     "output_type": "stream",
     "text": [
      "{}\n"
     ]
    }
   ],
   "source": [
    "# 清空字典\n",
    "d.clear()\n",
    "print(d)"
   ]
  },
  {
   "cell_type": "markdown",
   "metadata": {},
   "source": [
    "#### 字典推导\n",
    "\n",
    "与列表一样，字典也可以进行推导，字典通过`{}`包括代码进行推导，例子如下"
   ]
  },
  {
   "cell_type": "code",
   "execution_count": 17,
   "metadata": {},
   "outputs": [
    {
     "name": "stdout",
     "output_type": "stream",
     "text": [
      "{'张三': 13, '李四': 14, '王五': 15, '赵六': 16}\n"
     ]
    }
   ],
   "source": [
    "d = dict(zip([\"张三\", \"李四\", \"王五\", \"赵六\"], [13, 14, 15, 16]))\n",
    "print(d)"
   ]
  },
  {
   "cell_type": "code",
   "execution_count": 18,
   "metadata": {},
   "outputs": [
    {
     "name": "stdout",
     "output_type": "stream",
     "text": [
      "{'张三': 169, '李四': 196, '王五': 225, '赵六': 256}\n"
     ]
    }
   ],
   "source": [
    "# 获取的字典中所有值为原值的平方\n",
    "d2 = {key: value*value for key, value in d.items()}\n",
    "print(d2)"
   ]
  },
  {
   "cell_type": "code",
   "execution_count": 19,
   "metadata": {},
   "outputs": [
    {
     "name": "stdout",
     "output_type": "stream",
     "text": [
      "{'王五': 225, '赵六': 256}\n"
     ]
    }
   ],
   "source": [
    "# 只获取满足条件的元素\n",
    "d3 = {key: value*value for key, value in d.items() if value > 14}\n",
    "print(d3)"
   ]
  }
 ],
 "metadata": {
  "kernelspec": {
   "display_name": "Python 3",
   "language": "python",
   "name": "python3"
  },
  "language_info": {
   "codemirror_mode": {
    "name": "ipython",
    "version": 3
   },
   "file_extension": ".py",
   "mimetype": "text/x-python",
   "name": "python",
   "nbconvert_exporter": "python",
   "pygments_lexer": "ipython3",
   "version": "3.8.3"
  }
 },
 "nbformat": 4,
 "nbformat_minor": 4
}
