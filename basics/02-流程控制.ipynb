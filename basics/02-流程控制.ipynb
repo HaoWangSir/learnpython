{
 "cells": [
  {
   "cell_type": "markdown",
   "metadata": {},
   "source": [
    "分支和循环是编程语言控制逻辑走向和次序的重要部分，分支控制是程序需要根据不同的条件执行不同的逻辑，比如视频网站有很多VIP才能看的视频，这个时候就可以通过分支控制判断用户是否是VIP来决定用户是否有权限播放相应的视频，循环控制是程序需要重复执行某些逻辑，比如统计公司所有员工的平均工资，则需要通过循环累加所有人的工资再计算平均值，在Python中负责分支控制的有`if`语句，负责循环控制的有`for`和`while`语句."
   ]
  },
  {
   "cell_type": "markdown",
   "metadata": {},
   "source": [
    "### if语句\n",
    "\n",
    "`if`语句可以执行条件判断，其语法格式如下\n",
    "\n",
    "```python\n",
    "if 条件1:\n",
    "    分支1\n",
    "elif 条件2：\n",
    "    分支2\n",
    "else:\n",
    "    分支3\n",
    "```\n",
    "如果条件1为`True`则执行分支1中的代码，否则判断条件2，如果条件2为`True`则执行分支2中的代码，否则执行分支3中的代码"
   ]
  },
  {
   "cell_type": "code",
   "execution_count": 6,
   "metadata": {},
   "outputs": [
    {
     "name": "stdout",
     "output_type": "stream",
     "text": [
      "输入一个100以内的正整数: 97\n",
      "97分对应的等级是A\n"
     ]
    }
   ],
   "source": [
    "# 将成绩转换为等级\n",
    "# 90分以上等级A\n",
    "# 80分以上等级B\n",
    "# 70分以上等级C\n",
    "# 60分以上等级D\n",
    "# 60分以下等级E\n",
    "\n",
    "# 通过input接收用户输入并将用户输入转换为整数\n",
    "score = int(input(\"输入一个100以内的正整数: \"))\n",
    "if score >= 90:\n",
    "    grade = \"A\"\n",
    "elif score >= 80:\n",
    "    grade = \"B\"\n",
    "elif score >= 70:\n",
    "    grade = \"C\"\n",
    "elif score >= 60:\n",
    "    grade = \"D\"\n",
    "else:\n",
    "    grade = \"E\"\n",
    "print(\"{}分对应的等级是{}\".format(score, grade))"
   ]
  },
  {
   "cell_type": "markdown",
   "metadata": {},
   "source": [
    "### for语句\n",
    "\n",
    "`for`语句可以执行循环操作，其语法格式如下\n",
    "\n",
    "```python\n",
    "for value in 序列类型(或迭代器，生成器):\n",
    "    循环逻辑\n",
    "```  \n",
    "\n",
    "`range(start, stop, [step])`返回的是一个**可迭代对象**\n",
    "- range(101)：返回从0到100的可迭代对象\n",
    "- range(3, 101)：返回从3到100的可迭代对象\n",
    "- range(1, 101, 3)：返回从1到100且步长为3的可迭代对象"
   ]
  },
  {
   "cell_type": "code",
   "execution_count": 2,
   "metadata": {},
   "outputs": [
    {
     "name": "stdout",
     "output_type": "stream",
     "text": [
      "5050\n"
     ]
    }
   ],
   "source": [
    "# 通过程序计算1 + 2 + 3 + ... + 100\n",
    "total = 0\n",
    "for x in range(1, 101):\n",
    "    total += x\n",
    "print(total)"
   ]
  },
  {
   "cell_type": "markdown",
   "metadata": {},
   "source": [
    "### while语句\n",
    "\n",
    "`while`循环语句语法格式如下\n",
    "\n",
    "```python\n",
    "while 条件:\n",
    "    循环逻辑\n",
    "```\n",
    "只要条件为真，循环就一直执行，条件为假时退出循环"
   ]
  },
  {
   "cell_type": "code",
   "execution_count": 3,
   "metadata": {},
   "outputs": [
    {
     "name": "stdout",
     "output_type": "stream",
     "text": [
      "5050\n"
     ]
    }
   ],
   "source": [
    "# 通过程序计算1 + 2 + 3 + ... + 100\n",
    "x = 1\n",
    "total = 0\n",
    "while x < 101:\n",
    "    total += x\n",
    "    x += 1\n",
    "print(total)"
   ]
  },
  {
   "cell_type": "markdown",
   "metadata": {},
   "source": [
    "### break与continue\n",
    "\n",
    "在循环语句中我们可以提前退出循环或者跳过本次循环逻辑，在Python中`break`的作用是强制退出循环，`continue`的作用是可以跳过循环一次"
   ]
  },
  {
   "cell_type": "code",
   "execution_count": 4,
   "metadata": {},
   "outputs": [
    {
     "name": "stdout",
     "output_type": "stream",
     "text": [
      "2500\n"
     ]
    }
   ],
   "source": [
    "# 计算1 + 3 + 5 + ... + 99\n",
    "total = 0\n",
    "for x in range(100):\n",
    "    # 如果x是偶数则跳过计算\n",
    "    if x % 2 == 0:\n",
    "        continue\n",
    "    total += x\n",
    "print(total)"
   ]
  },
  {
   "cell_type": "code",
   "execution_count": 5,
   "metadata": {},
   "outputs": [
    {
     "name": "stdout",
     "output_type": "stream",
     "text": [
      "3003\n"
     ]
    }
   ],
   "source": [
    "# 计算1 + 2 + 3 + ... + 100，且要求总和超过3000后立即停止计算\n",
    "total = 0\n",
    "for x in range(101):\n",
    "    # 如果总和超过3000则退出循环\n",
    "    if total > 3000:\n",
    "        break\n",
    "    total += x\n",
    "print(total)"
   ]
  }
 ],
 "metadata": {
  "kernelspec": {
   "display_name": "Python 3",
   "language": "python",
   "name": "python3"
  },
  "language_info": {
   "codemirror_mode": {
    "name": "ipython",
    "version": 3
   },
   "file_extension": ".py",
   "mimetype": "text/x-python",
   "name": "python",
   "nbconvert_exporter": "python",
   "pygments_lexer": "ipython3",
   "version": "3.8.3"
  }
 },
 "nbformat": 4,
 "nbformat_minor": 4
}
