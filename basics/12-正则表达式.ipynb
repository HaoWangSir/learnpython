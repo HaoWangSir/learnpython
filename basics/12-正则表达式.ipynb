{
 "cells": [
  {
   "cell_type": "markdown",
   "metadata": {},
   "source": [
    "我们在处理字符串时经常会遇到要在一段文本中查找或替换符合特定模式的字符串的需求，在Python中我们可以使用正则表达式来定义字符串的匹配模式. Python正则表达式中常用的特殊字符如下\n",
    "\n",
    "|   符号    |      描述         |\n",
    "| ----------- | ----------------------- |\n",
    "|   `.`    |  匹配除换行符以外的任意字符  |\n",
    "|   `^`    |  匹配字符串的开头  |\n",
    "|   `$`    |  匹配字符串的末尾  |\n",
    "|   `*`    |  匹配0次或多次，默认贪婪匹配  |\n",
    "|   `+`    |  匹配1次或多次，默认贪婪匹配  |\n",
    "|   `?`    |  匹配0次或1次，默认贪婪匹配 |\n",
    "|   `*?`    |  匹配0次或多次，非贪婪匹配  |\n",
    "|   `+?`    |  匹配1次或多次，非贪婪匹配  |\n",
    "|   `??`    |  匹配0次或1次，非贪婪匹配  |\n",
    "|  `{m}`   |   匹配m次出现  |\n",
    "|  `{m,}`   |  匹配至少m次出现  |\n",
    "|  `{,n}`   |  匹配最多n次  |\n",
    "|  `{m,n}`  |  匹配m到n次出现，贪婪匹配  |\n",
    "|  `{m,n}`  |  匹配m到n次出现，非贪婪匹配  |\n",
    "|  `[]`   |  匹配集合内的任意元素，如[a-zA-Z]，[0-9]等  |\n",
    "|  `[^]`  |  匹配除集合以外的元素  |\n",
    "|  `A|B`  |  A和B为两个任意正则表达式，匹配A或者B，一旦A匹配成功就不会再去匹配B  |\n",
    "|  `\\d`   |  匹配任意十进制数字，等价于[0-9]  |\n",
    "|  `\\D`   |  匹配任意非数字，等价于[^0-9]  |\n",
    "|  `\\s`   |  匹配任意空白符，等价于[ \\t\\n\\r\\f\\v]  |\n",
    "|  `\\S`   |  匹配任意非空白符，等价于[^ \\t\\n\\r\\f\\v]  |\n",
    "|  `\\w`   |  匹配任意字母和数字，等价于[a-zA-Z0-9_]  |\n",
    "|  `\\W`   |  匹配任意非字母和数字，等价于[^a-zA-Z0-9_]  |\n",
    "|  `()`   |  通过括号可以进行匹配分组，后续可以通过\\number获取分组内容  |\n",
    "|  `(?P<name>)` | 命名分组匹配，后续可以通过组名获取分组内容 |\n",
    "\n",
    "建议总是用**原始字符串**作为模式字符串，这样可以避免转义特殊字符，也更容易避免出错."
   ]
  },
  {
   "cell_type": "code",
   "execution_count": 1,
   "metadata": {},
   "outputs": [],
   "source": [
    "import re"
   ]
  },
  {
   "cell_type": "markdown",
   "metadata": {},
   "source": [
    "### 1. 查找一个匹配\n",
    "\n",
    "- `search(pattern, string, flags=0)`：扫描整个字符串以查找匹配，如果找到则返回匹配对象，否则返回`None`\n",
    "- `match(pattern, string, flags=0)`：只从字符串开头位置开始查找匹配，如果找到返回匹配对象，否则返回`None`\n",
    "- `fullmatch(pattern, string, flags=0)`：如果整个字符串能完整的匹配则返回匹配对象，否则返回`None`"
   ]
  },
  {
   "cell_type": "code",
   "execution_count": 2,
   "metadata": {},
   "outputs": [
    {
     "name": "stdout",
     "output_type": "stream",
     "text": [
      "search匹配结果: 女装大佬\n",
      "match未找到匹配\n",
      "fullmatch未找到匹配\n"
     ]
    }
   ],
   "source": [
    "txt = \"张三是女装大佬，李四也是女装大佬\"\n",
    "pattern = r\"女装大佬\"\n",
    "\n",
    "# 扫描整个字符串查找匹配\n",
    "s_ret = re.search(pattern, txt)\n",
    "# 只从字符串开头位置查找匹配\n",
    "m_ret = re.match(pattern, txt)\n",
    "# 查找完全匹配\n",
    "fm_ret = re.fullmatch(pattern, txt)\n",
    "\n",
    "if s_ret:\n",
    "    print(\"search匹配结果: {}\".format(s_ret.group()))\n",
    "else:\n",
    "    print(\"search未找到匹配\")\n",
    "    \n",
    "if m_ret:\n",
    "    print(\"match匹配结果: {}\".format(m_ret.group()))\n",
    "else:\n",
    "    print(\"match未找到匹配\")\n",
    "    \n",
    "if fm_ret:\n",
    "    print(\"fullmatch匹配结果：{}\".format(fm_ret.group()))\n",
    "else:\n",
    "    print(\"fullmatch未找到匹配\")"
   ]
  },
  {
   "cell_type": "code",
   "execution_count": 3,
   "metadata": {},
   "outputs": [
    {
     "name": "stdout",
     "output_type": "stream",
     "text": [
      "search匹配结果: 女装大佬\n",
      "match匹配结果: 女装大佬\n",
      "fullmatch未找到匹配\n"
     ]
    }
   ],
   "source": [
    "txt = \"女装大佬是张三，张三就是女装大佬\"\n",
    "pattern = r\"女装大佬\"\n",
    "\n",
    "# 扫描整个字符串查找匹配\n",
    "s_ret = re.search(pattern, txt)\n",
    "# 只从字符串开头位置查找匹配\n",
    "m_ret = re.match(pattern, txt)\n",
    "# 查找完全匹配\n",
    "fm_ret = re.fullmatch(pattern, txt)\n",
    "\n",
    "if s_ret:\n",
    "    print(\"search匹配结果: {}\".format(s_ret.group()))\n",
    "else:\n",
    "    print(\"search未找到匹配\")\n",
    "    \n",
    "if m_ret:\n",
    "    print(\"match匹配结果: {}\".format(m_ret.group()))\n",
    "else:\n",
    "    print(\"match未找到匹配\")\n",
    "    \n",
    "if fm_ret:\n",
    "    print(\"fullmatch匹配结果：{}\".format(fm_ret.group()))\n",
    "else:\n",
    "    print(\"fullmatch未找到匹配\")"
   ]
  },
  {
   "cell_type": "code",
   "execution_count": 4,
   "metadata": {},
   "outputs": [
    {
     "name": "stdout",
     "output_type": "stream",
     "text": [
      "search匹配结果: 张三是女装大佬\n",
      "match匹配结果: 张三是女装大佬\n",
      "fullmatch匹配结果：张三是女装大佬\n"
     ]
    }
   ],
   "source": [
    "txt = \"张三是女装大佬\"\n",
    "pattern = r\"张三是女装大佬\"\n",
    "\n",
    "# 扫描整个字符串查找匹配\n",
    "s_ret = re.search(pattern, txt)\n",
    "# 只从字符串开头位置查找匹配\n",
    "m_ret = re.match(pattern, txt)\n",
    "# 查找完全匹配\n",
    "fm_ret = re.fullmatch(pattern, txt)\n",
    "\n",
    "if s_ret:\n",
    "    print(\"search匹配结果: {}\".format(s_ret.group()))\n",
    "else:\n",
    "    print(\"search未找到匹配\")\n",
    "    \n",
    "if m_ret:\n",
    "    print(\"match匹配结果: {}\".format(m_ret.group()))\n",
    "else:\n",
    "    print(\"match未找到匹配\")\n",
    "    \n",
    "if fm_ret:\n",
    "    print(\"fullmatch匹配结果：{}\".format(fm_ret.group()))\n",
    "else:\n",
    "    print(\"fullmatch未找到匹配\")"
   ]
  },
  {
   "cell_type": "markdown",
   "metadata": {},
   "source": [
    "在`Python`正则表达式很多接口中都有一个`flags`参数，我们可以在匹配的时候设置这个参数，其中最常用的是`re.I`，即以忽略大小写的方式匹配."
   ]
  },
  {
   "cell_type": "code",
   "execution_count": 5,
   "metadata": {},
   "outputs": [
    {
     "name": "stdout",
     "output_type": "stream",
     "text": [
      "考虑大小写未找到匹配\n",
      "忽略大小写找到匹配结果: Python\n"
     ]
    }
   ],
   "source": [
    "txt = \"Python CPlusPlus Javascript Go\"\n",
    "pattern = r\"python\"\n",
    "\n",
    "# 默认匹配的时候考虑大小写\n",
    "s1 = re.search(pattern, txt)\n",
    "# 设置re.I标志，匹配的时候忽略大小写\n",
    "s2 = re.search(pattern, txt, flags=re.I)\n",
    "\n",
    "if s1:\n",
    "    print(\"考虑大小写找到匹配结果: {}\".format(s1.group()))\n",
    "else:\n",
    "    print(\"考虑大小写未找到匹配\")\n",
    "    \n",
    "if s2:\n",
    "    print(\"忽略大小写找到匹配结果: {}\".format(s2.group()))\n",
    "else:\n",
    "    print(\"忽略大小写未找到匹配\")"
   ]
  },
  {
   "cell_type": "markdown",
   "metadata": {},
   "source": [
    "### 2. 查找多个匹配\n",
    "\n",
    "- `findall(pattern, string, flags=0)`：扫描整个字符串，以列表的形式返回所有匹配结果\n",
    "- `finditer(pattern, string, flags=0)`：扫描整个字符串，以迭代器的形式返回所有匹配结果"
   ]
  },
  {
   "cell_type": "code",
   "execution_count": 6,
   "metadata": {},
   "outputs": [
    {
     "name": "stdout",
     "output_type": "stream",
     "text": [
      "findall: ['123', '456', '789']\n",
      "finditer: 123\n",
      "finditer: 456\n",
      "finditer: 789\n"
     ]
    }
   ],
   "source": [
    "txt = \"张三123，李四456，王五789\"\n",
    "# 匹配数字\n",
    "pattern = r\"\\d+\"\n",
    "\n",
    "ret_list = re.findall(pattern, txt)\n",
    "print(\"findall: {}\".format(ret_list))\n",
    "\n",
    "for ret in re.finditer(pattern, txt):\n",
    "    print(\"finditer: {}\".format(ret.group()))"
   ]
  },
  {
   "cell_type": "markdown",
   "metadata": {},
   "source": [
    "### 3. 分割\n",
    "\n",
    "- `split(pattern, string, maxsplit=0, flags=0)`：通过给定模式的分隔符分割字符串\n",
    "\n",
    "`re.split()`与`str.split()`区别是`str.split()`只能以固定的字符作为分隔符，而`re.split()`以正则表达式做为分隔符"
   ]
  },
  {
   "cell_type": "code",
   "execution_count": 7,
   "metadata": {},
   "outputs": [
    {
     "name": "stdout",
     "output_type": "stream",
     "text": [
      "split后的结果为: ['张三', '李四', '王五', '赵六', '女装大佬', '华为', '小米']\n"
     ]
    }
   ],
   "source": [
    "txt =  \"张三2李四4王五5赵六6女装大佬a华为b小米\"\n",
    "# 以数字或者给定的字符集合作为分隔符\n",
    "pattern = r\"\\d|[abc]\"\n",
    "\n",
    "ret = re.split(pattern, txt)\n",
    "print(\"split后的结果为: {}\".format(ret))"
   ]
  },
  {
   "cell_type": "markdown",
   "metadata": {},
   "source": [
    "### 4. 替换\n",
    "\n",
    "- `sub(pattern, repl, string, count=0, flags=0)`：用`repl`替换`string`中符合`pattern`的文本并返回替换结果\n",
    "- `subn(pattern, repl, string, count=0, flags=0)`：用`repl`替换`string`中符合`pattern`的文本并以元组的形式返回替换结果和替换次数\n",
    "\n",
    "注意`repl`参数既可以是字符串也可以是函数"
   ]
  },
  {
   "cell_type": "code",
   "execution_count": 8,
   "metadata": {},
   "outputs": [
    {
     "name": "stdout",
     "output_type": "stream",
     "text": [
      "替换后的结果为：张三#李四#王五#赵六#女装大佬\n",
      "指定替换次数的结果为: 张三#李四#王五5赵六6女装大佬\n",
      "repl为函数时替换结果为：张三@李四@王五#赵六@女装大佬\n"
     ]
    }
   ],
   "source": [
    "txt =  \"张三3李四4王五5赵六6女装大佬\"\n",
    "pattern = r\"\\d\"\n",
    "# 将数字替换为#\n",
    "repl = \"#\"\n",
    "\n",
    "s = re.sub(pattern, repl, txt)\n",
    "print(\"替换后的结果为：{}\".format(s))\n",
    "\n",
    "# 指定替换次数，这里最多替换两次\n",
    "ss = re.sub(pattern, repl, txt, count=2)\n",
    "print(\"指定替换次数的结果为: {}\".format(ss))\n",
    "\n",
    "def simple_repl(m):\n",
    "    \"\"\"将5替换为#，其它的替换为@\"\"\"\n",
    "    if m.group(0) == \"5\":\n",
    "        return \"#\"\n",
    "    else:\n",
    "        return \"@\"\n",
    "\n",
    "sss = re.sub(pattern, simple_repl, txt)\n",
    "print(\"repl为函数时替换结果为：{}\".format(sss))"
   ]
  },
  {
   "cell_type": "code",
   "execution_count": 9,
   "metadata": {
    "scrolled": true
   },
   "outputs": [
    {
     "name": "stdout",
     "output_type": "stream",
     "text": [
      "替换后的结果为：('张三#李四#王五#赵六#女装大佬', 4)\n",
      "指定替换次数的结果为: ('张三#李四#王五5赵六6女装大佬', 2)\n",
      "repl为函数时替换结果为：('张三@李四@王五#赵六@女装大佬', 4)\n"
     ]
    }
   ],
   "source": [
    "txt =  \"张三3李四4王五5赵六6女装大佬\"\n",
    "pattern = r\"\\d\"\n",
    "# 将数字替换为#\n",
    "repl = \"#\"\n",
    "\n",
    "s = re.subn(pattern, repl, txt)\n",
    "print(\"替换后的结果为：{}\".format(s))\n",
    "\n",
    "# 指定替换次数，这里最多替换两次\n",
    "ss = re.subn(pattern, repl, txt, count=2)\n",
    "print(\"指定替换次数的结果为: {}\".format(ss))\n",
    "\n",
    "def simple_repl(m):\n",
    "    \"\"\"将5替换为#，其它的替换为@\"\"\"\n",
    "    if m.group(0) == \"5\":\n",
    "        return \"#\"\n",
    "    else:\n",
    "        return \"@\"\n",
    "\n",
    "sss = re.subn(pattern, simple_repl, txt)\n",
    "print(\"repl为函数时替换结果为：{}\".format(sss))"
   ]
  },
  {
   "cell_type": "markdown",
   "metadata": {},
   "source": [
    "如果要多次重复使用正则表达式的话，我们可以事先使用`re.compile()`获取正则对象，然后通过正则对象进行匹配将会更加高效，如果只是一次性使用的话直接使用`re`中的接口则更简单.\n",
    "\n",
    "```python\n",
    "# 获取正则对象\n",
    "patt = re.compile(pattern)\n",
    "# 获取匹配对象\n",
    "mat = patt.search(string)\n",
    "\n",
    "# 以上两行代码效果等同于如下这行代码\n",
    "mat = re.search(pattern, string)\n",
    "```"
   ]
  },
  {
   "cell_type": "markdown",
   "metadata": {},
   "source": [
    "正则对象中的接口与re中对应接口使用方法基本上是一样的. 这里不再赘述. 下面我们再看一下匹配对象上的操作.\n",
    "\n",
    "### 5. 匹配对象\n",
    "\n",
    "- group()：获取分组匹配结果，如果不传递参数或参数为0则返回整个匹配结果，传递对应组号则返回对应匹配组的结果\n",
    "- groups()：以元组的形式返回分组匹配结果\n",
    "- groupdict()：以字典的形式返回命名分组匹配的结果"
   ]
  },
  {
   "cell_type": "code",
   "execution_count": 10,
   "metadata": {},
   "outputs": [
    {
     "name": "stdout",
     "output_type": "stream",
     "text": [
      "整个匹配结果: Qian Xuesen: 1911/12/11\n",
      "姓: Qian\n",
      "名: Xuesen\n",
      "年：1911\n",
      "月: 12\n",
      "日: 11\n"
     ]
    }
   ],
   "source": [
    "txt = r\"Qian Xuesen: 1911/12/11\"\n",
    "pattern = r\"(\\w+) (\\w+): (\\d+)/(\\d+)/(\\d+)\"\n",
    "\n",
    "m = re.search(pattern, txt, re.I)\n",
    "if m:\n",
    "    print(\"整个匹配结果: {}\".format(m.group()))\n",
    "    print(\"姓: {}\".format(m.group(1)))\n",
    "    print(\"名: {}\".format(m.group(2)))\n",
    "    print(\"年：{}\".format(m.group(3)))\n",
    "    print(\"月: {}\".format(m.group(4)))\n",
    "    print(\"日: {}\".format(m.group(5)))"
   ]
  },
  {
   "cell_type": "code",
   "execution_count": 11,
   "metadata": {},
   "outputs": [
    {
     "name": "stdout",
     "output_type": "stream",
     "text": [
      "姓: Qian\n",
      "名字: Xuesen\n",
      "年：1911\n",
      "月: 12\n",
      "日: 11\n"
     ]
    }
   ],
   "source": [
    "txt = r\"Qian Xuesen: 1911/12/11\"\n",
    "# 以命名组的方式匹配\n",
    "pattern = r\"(?P<xing>\\w+) (?P<ming>\\w+): (?P<year>\\d+)/(?P<month>\\d+)/(?P<day>\\d+)\"\n",
    "\n",
    "m = re.search(pattern, txt, re.I)\n",
    "if m:\n",
    "    print(\"姓: {}\".format(m.group(\"xing\")))\n",
    "    print(\"名字: {}\".format(m.group(\"ming\")))\n",
    "    print(\"年：{}\".format(m.group(\"year\")))\n",
    "    print(\"月: {}\".format(m.group(\"month\")))\n",
    "    print(\"日: {}\".format(m.group(\"day\")))"
   ]
  },
  {
   "cell_type": "code",
   "execution_count": 12,
   "metadata": {},
   "outputs": [
    {
     "name": "stdout",
     "output_type": "stream",
     "text": [
      "姓: Qian\n",
      "名字: Xuesen\n",
      "年：1911\n",
      "月: 12\n",
      "日: 11\n"
     ]
    }
   ],
   "source": [
    "txt = r\"Qian Xuesen: 1911/12/11\"\n",
    "# 以命名组的方式匹配\n",
    "pattern = r\"(?P<xing>\\w+) (?P<ming>\\w+): (?P<year>\\d+)/(?P<month>\\d+)/(?P<day>\\d+)\"\n",
    "\n",
    "m = re.search(pattern, txt, re.I)\n",
    "if m:\n",
    "    # 还可以以字典形式获取命名分组匹配结果\n",
    "    md = m.groupdict()\n",
    "    print(\"姓: {}\".format(md[\"xing\"]))\n",
    "    print(\"名字: {}\".format(md[\"ming\"]))\n",
    "    print(\"年：{}\".format(md[\"year\"]))\n",
    "    print(\"月: {}\".format(md[\"month\"]))\n",
    "    print(\"日: {}\".format(md[\"day\"]))"
   ]
  },
  {
   "cell_type": "code",
   "execution_count": 13,
   "metadata": {},
   "outputs": [
    {
     "name": "stdout",
     "output_type": "stream",
     "text": [
      "请输入QQ号: 3133095778\n",
      "QQ号匹配OK\n"
     ]
    }
   ],
   "source": [
    "# QQ号验证，QQ号是5到12位的数字且首位不能是0\n",
    "\n",
    "qq = input(\"请输入QQ号: \")\n",
    "pattern = r\"[1-9]\\d{4,11}\"\n",
    "\n",
    "m = re.fullmatch(pattern, qq)\n",
    "if m:\n",
    "    print(\"QQ号匹配OK\")\n",
    "else:\n",
    "    print(\"您输入的是无效的QQ号: {}\".format(qq))"
   ]
  },
  {
   "cell_type": "code",
   "execution_count": 14,
   "metadata": {},
   "outputs": [
    {
     "name": "stdout",
     "output_type": "stream",
     "text": [
      "清洗后的字符串为: 我*，你个*\n"
     ]
    }
   ],
   "source": [
    "# 将脏话替换为*\n",
    "\n",
    "txt = \"我操，你个煞笔\"\n",
    "pattern = r\"[操艹]|fuck|shit|[傻煞沙][笔比屄逼叉缺吊屌碉雕]\"\n",
    "\n",
    "s = re.sub(pattern, \"*\", txt, re.I)\n",
    "print(\"清洗后的字符串为: {}\".format(s))"
   ]
  }
 ],
 "metadata": {
  "kernelspec": {
   "display_name": "Python 3",
   "language": "python",
   "name": "python3"
  },
  "language_info": {
   "codemirror_mode": {
    "name": "ipython",
    "version": 3
   },
   "file_extension": ".py",
   "mimetype": "text/x-python",
   "name": "python",
   "nbconvert_exporter": "python",
   "pygments_lexer": "ipython3",
   "version": "3.8.3"
  }
 },
 "nbformat": 4,
 "nbformat_minor": 4
}
