{
 "cells": [
  {
   "cell_type": "markdown",
   "metadata": {},
   "source": [
    "### 面向对象概念\n",
    "\n",
    "- 类(`class`): 用来描述具有相同的属性和方法的对象的集合，它定义了该集合中每个对象所共有的属性和方法，对象是类的实例\n",
    "- 方法: 类中定义的函数\n",
    "- 类变量: 类变量是类的所有对象共有的属性，它不是某个具体对象特有的属性，类变量定义在类中且在函数体之外\n",
    "- 数据成员: 类变量或者实例变量用于处理类及其实例对象的相关的数据\n",
    "- 方法重载: 如果从父类继承的方法不能满足子类的需求，可以对其进行改写，这个过程叫方法的重载(`override`)\n",
    "- 继承: 一个派生类（`derived class`）继承基类（`base class`）的字段和方法。继承也允许把一个派生类的对象作为一个基类对象对待\n",
    "- 实例化: 创建一个类的实例，类的具体对象\n",
    "- 对象: 通过类定义的数据结构实例\n",
    "\n",
    "类是对象的蓝图和模板，对象是类的具体实例，类提供了一种组合数据和功能的方法，创建一个新类意味着创建一个新的对象类型，从而允许创建一个该类型的新实例，每个类的实例可以拥有保存自己状态的属性，一个类的实例也可以有改变自己状态的（定义在类中的）方法"
   ]
  },
  {
   "cell_type": "markdown",
   "metadata": {},
   "source": [
    "### 类定义\n",
    "\n",
    "类定义的语法格式如下\n",
    "\n",
    "```python\n",
    "class ClassName:\n",
    "    <statement-1>\n",
    "    .\n",
    "    .\n",
    "    .\n",
    "    <statement-N>\n",
    "```\n",
    "\n",
    "在Python中我们通过`obj.name`和`obj.method`的语法引用对象属性和方法，我们通过如下简单的例子演示属性引用和方法调用"
   ]
  },
  {
   "cell_type": "code",
   "execution_count": 7,
   "metadata": {},
   "outputs": [
    {
     "name": "stdout",
     "output_type": "stream",
     "text": [
      "SimpleClass类的name为:  张三\n",
      "SimpleClass类的name为:  张三\n",
      "SimpleClass类的方法fun输出为:  Python is fun!\n"
     ]
    }
   ],
   "source": [
    "class SimpleClass:\n",
    "    \"\"\"一个简单的类\"\"\"\n",
    "    # name是类变量，所有实例共享该类变量\n",
    "    name = \"张三\"\n",
    "    def fun(self):\n",
    "        \"\"\"类中普通方法定义以self作为第一个参数，self表示的就是当前实例\"\"\"\n",
    "        return \"Python is fun!\"\n",
    "        \n",
    "# 实例化类\n",
    "x = SimpleClass()\n",
    "\n",
    "# 访问类的属性和方法\n",
    "print(\"SimpleClass类的name为: \", x.name) \n",
    "print(\"SimpleClass类的name为: \", SimpleClass.name) # 类变量既可以通过实例访问也可以通过类来访问\n",
    "print(\"SimpleClass类的方法fun输出为: \", x.fun())"
   ]
  },
  {
   "cell_type": "markdown",
   "metadata": {},
   "source": [
    "类有一个名为` __init__()`的特殊方法（构造方法），该方法在类实例化时会自动调用，`__init__()`方法可以有参数，参数通过 `__init__()` 传递到类的实例化操作上"
   ]
  },
  {
   "cell_type": "code",
   "execution_count": 8,
   "metadata": {},
   "outputs": [
    {
     "name": "stdout",
     "output_type": "stream",
     "text": [
      "我叫张三，性别男，今年18岁\n",
      "姓名:  李四\n",
      "年龄:  19\n",
      "性别:  男\n"
     ]
    }
   ],
   "source": [
    "class Person:    \n",
    "    def __init__(self, name, age, gender):\n",
    "        \"\"\"在实例化对象时将会调用该方法，在实例化时传递name,age,gender等参数构造对象\"\"\"\n",
    "        self.name = name\n",
    "        self.age = age\n",
    "        self.gender = gender\n",
    "    \n",
    "    def print_info(self):\n",
    "        \"\"\"简单打印属性\"\"\"\n",
    "        print(\"我叫{}，性别{}，今年{}岁\".format(self.name, self.gender, self.age))\n",
    "        \n",
    "# 传递参数构造对象，在构造对象的时候会调用__init__()方法\n",
    "p1 = Person(\"张三\", 18, \"男\")\n",
    "# 调用对象方法\n",
    "p1.print_info()\n",
    "\n",
    "p2 = Person(\"李四\", 19, \"男\")\n",
    "# 通过obj.name的方式访问对象的属性\n",
    "print(\"姓名: \", p2.name)\n",
    "print(\"年龄: \", p2.age)\n",
    "print(\"性别: \", p2.gender)"
   ]
  },
  {
   "cell_type": "markdown",
   "metadata": {},
   "source": [
    "Python作为一种动态语言，还可以动态的添加属性"
   ]
  },
  {
   "cell_type": "code",
   "execution_count": 9,
   "metadata": {},
   "outputs": [],
   "source": [
    "class Person:    \n",
    "    def __init__(self, name, age):\n",
    "        self.name = name\n",
    "        self.age = age\n",
    "        \n",
    "    def print_info(self):\n",
    "        # 在对象内部，__init__()以外的地方动态添加属性\n",
    "        self.gender = \"男\"\n",
    "        print(\"我叫{}，性别{}，今年{}岁\".format(self.name, self.gender, self.age))\n",
    "\n",
    "# 构造对象\n",
    "p = Person(\"张三\", 19)\n",
    "# 在对象外动态添加属性\n",
    "p.city = \"北京\""
   ]
  },
  {
   "cell_type": "markdown",
   "metadata": {},
   "source": [
    "### 访问控制\n",
    "\n",
    "与其它主流面向对象编程语言不同，Python中不存在`public`,`protected`,`private`这样的关键字来限定属性和方法的访问，在Python中通过在属性和方法名字前面添加两个下划线来将属性和方法设置为私有的，在Python中可以通过`property`装饰器为私有属性提供读取和修改的方法，装饰器通常会放在类、函数或方法的声明之前，通过一个`@`符号表示将装饰器应用于类、函数或方法，派生类不会继承基类的私有属性和方法."
   ]
  },
  {
   "cell_type": "code",
   "execution_count": 10,
   "metadata": {},
   "outputs": [
    {
     "name": "stdout",
     "output_type": "stream",
     "text": [
      "张三\n",
      "李四\n",
      "19\n"
     ]
    },
    {
     "ename": "AttributeError",
     "evalue": "can't set attribute",
     "output_type": "error",
     "traceback": [
      "\u001b[0;31m---------------------------------------------------------------------------\u001b[0m",
      "\u001b[0;31mAttributeError\u001b[0m                            Traceback (most recent call last)",
      "\u001b[0;32m<ipython-input-10-c3a8b70cea59>\u001b[0m in \u001b[0;36m<module>\u001b[0;34m\u001b[0m\n\u001b[1;32m     34\u001b[0m \u001b[0mprint\u001b[0m\u001b[0;34m(\u001b[0m\u001b[0mp\u001b[0m\u001b[0;34m.\u001b[0m\u001b[0mage\u001b[0m\u001b[0;34m)\u001b[0m\u001b[0;34m\u001b[0m\u001b[0;34m\u001b[0m\u001b[0m\n\u001b[1;32m     35\u001b[0m \u001b[0;31m# 没有定义setter直接访问私有属性将抛出AttributeError\u001b[0m\u001b[0;34m\u001b[0m\u001b[0;34m\u001b[0m\u001b[0;34m\u001b[0m\u001b[0m\n\u001b[0;32m---> 36\u001b[0;31m \u001b[0mp\u001b[0m\u001b[0;34m.\u001b[0m\u001b[0mage\u001b[0m \u001b[0;34m=\u001b[0m \u001b[0;36m17\u001b[0m\u001b[0;34m\u001b[0m\u001b[0;34m\u001b[0m\u001b[0m\n\u001b[0m",
      "\u001b[0;31mAttributeError\u001b[0m: can't set attribute"
     ]
    }
   ],
   "source": [
    "class Person:\n",
    "    def __init__(self, name, age, gender):\n",
    "        # 以两个下划线开头定义的属性是private属性，private属性不能直接被外部访问\n",
    "        self.__name = name\n",
    "        self.__age = age\n",
    "        self.__gender = gender\n",
    "        \n",
    "    # 定义属性访问器(getter)\n",
    "    @property\n",
    "    def name(self):\n",
    "        return self.__name\n",
    "    \n",
    "    # 定义属性修改器(setter)\n",
    "    @name.setter\n",
    "    def name(self, name):\n",
    "        # isinstance可用于检查一个对象的类型，这里要求name必须是字符串类型\n",
    "        if not isinstance(name, str):\n",
    "            raise TypeError(\"{}必须是字符串类型\".format(name))\n",
    "        self.__name = name\n",
    "        \n",
    "    @property\n",
    "    def age(self):\n",
    "        return self.__age\n",
    "    \n",
    "\n",
    "p = Person(\"张三\", 19, \"男\")\n",
    "# 通过getter访问私有属性\n",
    "print(p.name)\n",
    "# 通过setter修改私有属性\n",
    "p.name = \"李四\"\n",
    "print(p.name)\n",
    "\n",
    "# 定义了getter，访问ok\n",
    "print(p.age)\n",
    "# 没有定义setter直接访问私有属性将抛出AttributeError\n",
    "p.age = 17"
   ]
  },
  {
   "cell_type": "markdown",
   "metadata": {},
   "source": [
    "### 静态方法与类方法\n",
    "\n",
    "之前我们在类中定义的方法都是对象方法，在Python中还可以定义静态方法和类方法，使用`@staticmethod`装饰器定义静态方法，使用`@classmethod`装饰器定义类方法，静态方法和类方法与对象方法的主要区别是静态方法和类方法是类的固有属性，它们不依赖，不特定于具体的实例，我们通过例子来看它们的定义和使用"
   ]
  },
  {
   "cell_type": "code",
   "execution_count": 11,
   "metadata": {},
   "outputs": [
    {
     "name": "stdout",
     "output_type": "stream",
     "text": [
      "True\n",
      "True\n",
      "12\n"
     ]
    }
   ],
   "source": [
    "# 静态方法和类方法与具体的实例无关，它们往往实现一些服务于该类的功能性逻辑，且该功能性逻辑对该类的所有实例来说都是一样的\n",
    "# 对象方法与具体的实例相关，同一个类的不同实例调用同一个对象方法往往产生不同结果\n",
    "\n",
    "class Triangle:\n",
    "    \"\"\"一个三角形类\"\"\"\n",
    "    def __init__(self, a, b, c):\n",
    "        \"\"\"a,b,c参数为三角形的三条边\"\"\"\n",
    "        self.a = a\n",
    "        self.b = b\n",
    "        self.c = c\n",
    "        \n",
    "    # 通过@staticmethod定义静态方法\n",
    "    @staticmethod\n",
    "    def is_valid_static(a, b, c):\n",
    "        \"\"\"\n",
    "        静态方法没有self和cls参数\n",
    "        该函数实现的逻辑是验证输入的三条边是否能构成一个三角形\n",
    "        验证三条边能否构成三角形是三角形类本身固有的功能属性，与具体什么三角形实例无关，因而使用静态方法或类方法\n",
    "        \"\"\"\n",
    "        return a + b > c and b + c > a and a + c > b\n",
    "    \n",
    "    # 通过@classmethod定义类方法\n",
    "    @classmethod\n",
    "    def is_valid_class(cls, a, b, c):\n",
    "        \"\"\"\n",
    "        与对象方法不同的是，类方法第一个参数为cls，cls绑定的是类\n",
    "        该函数实现的逻辑是验证输入的三条边是否能构成一个三角形\n",
    "        验证三条边能否构成三角形是三角形类本身固有的功能属性，与具体什么三角形实例无关，因而使用静态方法或类方法\n",
    "        \"\"\"\n",
    "        return a + b > c and b + c > a and a + c > b\n",
    "    \n",
    "    def perimeter(self):\n",
    "        \"\"\"\n",
    "        对象方法第一个参数为self，self绑定的是当前实例化的对象\n",
    "        该函数计算三角形的周长\n",
    "        计算三角形的周长与特定的三角形实例相关，因为不同的三角形它们的周长不同，因而必须定义成对象方法\n",
    "        \"\"\"\n",
    "        return self.a + self.b + self.c\n",
    "\n",
    "a, b, c = 3, 4, 5\n",
    "# 通过类名.静态方法名调用静态方法，静态方法不依赖于具体实例\n",
    "print(Triangle.is_valid_static(a, b, c))\n",
    "# 通过类名.类方法名调用类方法，类方法不依赖于具体实例\n",
    "print(Triangle.is_valid_class(a, b, c))\n",
    "# 构造三角形实例\n",
    "t = Triangle(a, b, c)\n",
    "# 三角形的周长与具体三角形相关\n",
    "print(t.perimeter())"
   ]
  },
  {
   "cell_type": "markdown",
   "metadata": {},
   "source": [
    "### 继承与多态\n",
    "\n",
    "面向对象编程语言支持在已有类的基础上创建新类，从而减少重复代码的编写，提供继承信息的类叫做父类（也叫基类），得到继承信息的类叫做子类（也叫派生类），派生类除了继承基类属性和方法外还可以重载基类的方法\n",
    "\n",
    "派生类定义的语法格式如下\n",
    "\n",
    "```python\n",
    "class DerivedClassName(BaseClassName):\n",
    "    <statement-1>\n",
    "    .\n",
    "    .\n",
    "    .\n",
    "    <statement-N>\n",
    "```"
   ]
  },
  {
   "cell_type": "code",
   "execution_count": 12,
   "metadata": {},
   "outputs": [
    {
     "name": "stdout",
     "output_type": "stream",
     "text": [
      "name: 老张, age: 50\n",
      "name: 张三, age: 25\n",
      "男童鞋\n",
      "Hello Boy\n",
      "name: 小张, age: 22\n",
      "女童鞋\n",
      "byebye\n"
     ]
    }
   ],
   "source": [
    "class Person:\n",
    "    def __init__(self, name, age):\n",
    "        self.name = name\n",
    "        self.age = age\n",
    "        \n",
    "    def print_info(self):\n",
    "        print(\"name: {}, age: {}\".format(self.name, self.age))\n",
    "        \n",
    "    def gender(self):\n",
    "        \"\"\"基类可以定义接口供派生类实现，pass语句表示什么也不做\"\"\"\n",
    "        pass\n",
    "    \n",
    "class Male(Person):\n",
    "    def __init__(self, name, age):\n",
    "        # 调用基类构造方法，通过super()调用基类方法\n",
    "        super().__init__(name, age)\n",
    "        \n",
    "    def gender(self):\n",
    "        \"\"\"重载基类方法\"\"\"\n",
    "        print(\"男童鞋\")\n",
    "        \n",
    "    def say_hello(self):\n",
    "        \"\"\"派生类可以继续定义自己的方法\"\"\"\n",
    "        print(\"Hello Boy\")\n",
    "        \n",
    "class Female(Person):\n",
    "    def __init__(self, name, age):\n",
    "        # 调用基类构造方法，通过super()调用基类方法\n",
    "        super().__init__(name, age)\n",
    "        \n",
    "    def gender(self):\n",
    "        \"\"\"重载基类方法\"\"\"\n",
    "        print(\"女童鞋\")\n",
    "        \n",
    "    def say_byebye(self):\n",
    "        \"\"\"派生类可以继续定义自己的方法\"\"\"\n",
    "        print(\"byebye\")\n",
    "        \n",
    "p = Person(\"老张\", 50)\n",
    "p.print_info()\n",
    "\n",
    "m = Male(\"张三\", 25)\n",
    "# 调用从基类继承过来的方法\n",
    "m.print_info()\n",
    "# 调用重载的方法\n",
    "m.gender()\n",
    "# 调用派生类自己定义的方法\n",
    "m.say_hello()\n",
    "\n",
    "f = Female(\"小张\", 22)\n",
    "# 调用从基类继承过来的方法\n",
    "f.print_info()\n",
    "# 调用重载的方法\n",
    "f.gender()\n",
    "# 调用派生类自己定义的方法\n",
    "f.say_byebye()"
   ]
  }
 ],
 "metadata": {
  "kernelspec": {
   "display_name": "Python 3",
   "language": "python",
   "name": "python3"
  },
  "language_info": {
   "codemirror_mode": {
    "name": "ipython",
    "version": 3
   },
   "file_extension": ".py",
   "mimetype": "text/x-python",
   "name": "python",
   "nbconvert_exporter": "python",
   "pygments_lexer": "ipython3",
   "version": "3.8.3"
  }
 },
 "nbformat": 4,
 "nbformat_minor": 4
}
