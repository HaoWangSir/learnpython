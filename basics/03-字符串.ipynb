{
 "cells": [
  {
   "cell_type": "markdown",
   "metadata": {},
   "source": [
    "### 字符串\n",
    "\n",
    "字符串是非常常用的数据类型，我们可以使用单引号和双引号来创建字符串，创建字符串非常简单，只需为变量赋予一个字符串值即可"
   ]
  },
  {
   "cell_type": "code",
   "execution_count": 1,
   "metadata": {},
   "outputs": [
    {
     "name": "stdout",
     "output_type": "stream",
     "text": [
      "Hello World!\n",
      "Welcome to Python World!\n",
      "\n",
      "Hello\n",
      "World!\n",
      "\n",
      "\n",
      "Welcome\n",
      "to\n",
      "Python\n",
      "World!\n",
      "\n"
     ]
    }
   ],
   "source": [
    "# a和b分别为用单引号和双引号创建的字符串\n",
    "a = 'Hello World!'\n",
    "b = \"Welcome to Python World!\"\n",
    "\n",
    "# c和d分别为使用三个单引号和三个双引号创建的字符串，且c和d可以保留字符串的原始形式，比如换行符等\n",
    "c = '''\n",
    "Hello\n",
    "World!\n",
    "'''\n",
    "d = \"\"\"\n",
    "Welcome\n",
    "to\n",
    "Python\n",
    "World!\n",
    "\"\"\"\n",
    "print(a)\n",
    "print(b)\n",
    "print(c)\n",
    "print(d)"
   ]
  },
  {
   "cell_type": "markdown",
   "metadata": {},
   "source": [
    "### 转移字符与原始字符\n",
    "\n",
    "可以在字符串中使用`\\`来表示转义字符，如下为常见的转义字符\n",
    "\n",
    "\n",
    "|       转义字符       |        描述       |\n",
    "| :------------------------: | :-----------------------: |\n",
    "|    \\\\       |     反斜杠      |\n",
    "|    \\'       |     单引号       |\n",
    "|    \\\"      |     双引号       |\n",
    "|    \\n       |    换行        |\n",
    "|   \\t        |    水平制表符        |\n",
    "|   \\v        |    垂直制表符       |\n",
    "|    \\a       |    响铃        |\n",
    "|   \\b       |   退格      |"
   ]
  },
  {
   "cell_type": "code",
   "execution_count": 2,
   "metadata": {},
   "outputs": [
    {
     "name": "stdout",
     "output_type": "stream",
     "text": [
      "\\Hello World\\\n",
      "'Hello World'\n",
      "\"Hello World\"\n",
      "Hello\n",
      "World\n",
      "Hello\tWorld\n"
     ]
    }
   ],
   "source": [
    "# 输出转义后的字符串\n",
    "print(\"\\\\Hello World\\\\\")\n",
    "print('\\'Hello World\\'')\n",
    "print(\"\\\"Hello World\\\"\")\n",
    "print(\"Hello\\nWorld\")\n",
    "print(\"Hello\\tWorld\")"
   ]
  },
  {
   "cell_type": "markdown",
   "metadata": {},
   "source": [
    "在Python中以`r`或`R`开头的字符串被称为**原始字符串**，在原始字符串中转义字符不再具有特殊意义，而是保持其原始意义"
   ]
  },
  {
   "cell_type": "code",
   "execution_count": 3,
   "metadata": {},
   "outputs": [
    {
     "name": "stdout",
     "output_type": "stream",
     "text": [
      "\\\\Hello World\\\\\n",
      "\\'Hello World\\'\n",
      "\\\"Hello World\\\"\n",
      "Hello\\nWorld\n",
      "Hello\\tWorld\n"
     ]
    }
   ],
   "source": [
    "# 输出原始字符串，此时转义字符不再具有特殊意义\n",
    "print(r\"\\\\Hello World\\\\\")\n",
    "print(r'\\'Hello World\\'')\n",
    "print(R\"\\\"Hello World\\\"\")\n",
    "print(R\"Hello\\nWorld\")\n",
    "print(R\"Hello\\tWorld\")"
   ]
  },
  {
   "cell_type": "markdown",
   "metadata": {},
   "source": [
    "### Python字符串运算符\n",
    "\n",
    "|       运算符       |        描述       |\n",
    "| :------------------------: | :-----------------------: |\n",
    "|    +      |     字符串拼接       |\n",
    "|    *       |     重复字符串      |\n",
    "|    >      |     大于       |\n",
    "|    >=      |     大于或等于       |\n",
    "|    <     |     小于       |\n",
    "|    <=      |     小于等于       |\n",
    "|    ==     |     等于      |\n",
    "|   [:]      |     通过索引获取子字符串       |\n",
    "|   in       |    判断字符串是否在给定字符串中        |\n",
    "|   not in       |    判断字符串是否不在给定字符串中        |"
   ]
  },
  {
   "cell_type": "code",
   "execution_count": 4,
   "metadata": {},
   "outputs": [
    {
     "name": "stdout",
     "output_type": "stream",
     "text": [
      "Hello World\n",
      "Hello Hello Hello \n",
      "Hello World!\n",
      "Hello World!Hello World!Hello World!\n"
     ]
    }
   ],
   "source": [
    "# 直接拼接两个字符串\n",
    "a = \"Hello \" + \"World\"\n",
    "print(a)\n",
    "\n",
    "# 字符串重复若干次\n",
    "b = \"Hello \" * 3\n",
    "print(b)\n",
    "\n",
    "# 拼接给定字符串后再赋值\n",
    "a += \"!\"\n",
    "print(a)\n",
    "\n",
    "# 重复若干次之后再赋值\n",
    "a *= 3\n",
    "print(a)"
   ]
  },
  {
   "cell_type": "code",
   "execution_count": 5,
   "metadata": {},
   "outputs": [
    {
     "name": "stdout",
     "output_type": "stream",
     "text": [
      "a > b ?: False\n",
      "a >= b ?: False\n",
      "a < b ?: True\n",
      "a <= b ?: True\n",
      "a == b ?: False\n"
     ]
    }
   ],
   "source": [
    "a = \"Hello World\"\n",
    "b = \"Welcome to Python World\"\n",
    "\n",
    "# 字符串比较\n",
    "print(\"a > b ?: {}\".format(a>b))\n",
    "print(\"a >= b ?: {}\".format(a>=b))\n",
    "print(\"a < b ?: {}\".format(a<b))\n",
    "print(\"a <= b ?: {}\".format(a<=b))\n",
    "print(\"a == b ?: {}\".format(a==b))"
   ]
  },
  {
   "cell_type": "code",
   "execution_count": 6,
   "metadata": {},
   "outputs": [
    {
     "name": "stdout",
     "output_type": "stream",
     "text": [
      "False\n",
      "True\n",
      "True\n",
      "False\n"
     ]
    }
   ],
   "source": [
    "a = \"Hello\"\n",
    "b = \"World\"\n",
    "c = \"Welcome to Python World\"\n",
    "\n",
    "# a是否出现在c中\n",
    "print(a in c)\n",
    "# b是否出现在c中\n",
    "print(b in c)\n",
    "# a是否没有出现在c中\n",
    "print(a not in c)\n",
    "# b是否没有出现在c中\n",
    "print(b not in c)"
   ]
  },
  {
   "cell_type": "markdown",
   "metadata": {},
   "source": [
    "我们可以通过下标访问字符串，下标索引从0开始，-1表示从末尾位置开始，下标大小必须小于字符串长度，索引格式为`变量[start:stop:step]`，`stop`和`step`是可选的，我们通过如下例子来理解字符串的下标访问"
   ]
  },
  {
   "cell_type": "code",
   "execution_count": 7,
   "metadata": {},
   "outputs": [
    {
     "name": "stdout",
     "output_type": "stream",
     "text": [
      "W\n",
      "!\n",
      "lcome to Py\n",
      "loet y\n",
      "lcome to Python World!\n",
      "Welcome to Py\n",
      "Welcome to Python World!\n",
      "thon Wor\n",
      "!dlroW nohtyP ot emocleW\n"
     ]
    }
   ],
   "source": [
    "a = \"Welcome to Python World!\"\n",
    "\n",
    "# 第一个字符\n",
    "print(a[0])\n",
    "# 最后一个字符\n",
    "print(a[-1])\n",
    "# 下标从2开始，到12结束\n",
    "print(a[2:13])\n",
    "# 下标从2开始，到12结束，步长为2\n",
    "print(a[2:13:2])\n",
    "# 下标从2开始，一直到末尾，省略末尾索引表示一直到字符串末尾\n",
    "print(a[2:])\n",
    "# 下标从0开始，到12结束，省略开头索引表示索引从0开始\n",
    "print(a[:13])\n",
    "# 同时省略开头和结尾表示下标从0开始一直到末尾\n",
    "print(a[:])\n",
    "# 反向索引，从倒数第11个字符开始，到倒数第4个字符结束\n",
    "print(a[-11:-3])\n",
    "# 从倒数第一个字符开始，到倒数末尾字符结束，这里实现的是字符串reverse操作\n",
    "print(a[::-1])"
   ]
  },
  {
   "cell_type": "markdown",
   "metadata": {},
   "source": [
    "### 格式化字符串\n",
    "\n",
    "格式字符串包含有以花括号`{}`括起来的替换字段，不在花括号之内的内容被视为字面文本，会不加修改地复制到输出中."
   ]
  },
  {
   "cell_type": "code",
   "execution_count": 8,
   "metadata": {},
   "outputs": [
    {
     "name": "stdout",
     "output_type": "stream",
     "text": [
      "apple -> banana\n"
     ]
    }
   ],
   "source": [
    "# {}将会按顺序被format中的参数替换\n",
    "print(\"{} -> {}\".format(\"apple\", \"banana\"))"
   ]
  },
  {
   "cell_type": "code",
   "execution_count": 9,
   "metadata": {},
   "outputs": [
    {
     "name": "stdout",
     "output_type": "stream",
     "text": [
      "banana -> apple\n"
     ]
    }
   ],
   "source": [
    "# 可以通过整数索引显式指定参数的替换顺序，参数索引从0开始\n",
    "print(\"{1} -> {0}\".format(\"apple\", \"banana\"))"
   ]
  },
  {
   "cell_type": "code",
   "execution_count": 10,
   "metadata": {},
   "outputs": [
    {
     "name": "stdout",
     "output_type": "stream",
     "text": [
      "2020 -> 12\n"
     ]
    }
   ],
   "source": [
    "# 可以显式使用字段名进行替换\n",
    "print(\"{year} -> {month}\".format(year=2020, month=12))"
   ]
  },
  {
   "cell_type": "markdown",
   "metadata": {},
   "source": [
    "格式化输出时可以指定对齐方式，对齐表示如下\n",
    "\n",
    "|       选项       |        描述       |\n",
    "| :------------------------: | :-----------------------: |\n",
    "|    <       |     左对齐      |\n",
    "|    >       |     右对齐       |\n",
    "|    ^      |     居中对齐     |"
   ]
  },
  {
   "cell_type": "code",
   "execution_count": 11,
   "metadata": {},
   "outputs": [
    {
     "name": "stdout",
     "output_type": "stream",
     "text": [
      "1\n",
      "10\n",
      "100\n",
      "1000\n",
      "10000\n"
     ]
    }
   ],
   "source": [
    "data = [1, 10, 100, 1000, 10000]\n",
    "for i in data:\n",
    "    print(\"{:<}\".format(i))  # 左对齐"
   ]
  },
  {
   "cell_type": "code",
   "execution_count": 12,
   "metadata": {},
   "outputs": [
    {
     "name": "stdout",
     "output_type": "stream",
     "text": [
      "    1\n",
      "   10\n",
      "  100\n",
      " 1000\n",
      "10000\n"
     ]
    }
   ],
   "source": [
    "for i in data:\n",
    "    print(\"{:>5}\".format(i)) # 右对齐，对齐时可以显式指定输出宽度，这里指定输出宽度为5"
   ]
  },
  {
   "cell_type": "code",
   "execution_count": 13,
   "metadata": {},
   "outputs": [
    {
     "name": "stdout",
     "output_type": "stream",
     "text": [
      "  1  \n",
      " 10  \n",
      " 100 \n",
      "1000 \n",
      "10000\n"
     ]
    }
   ],
   "source": [
    "for i in data:\n",
    "    print(\"{:^5}\".format(i)) # 居中对齐，对齐时可以显式指定输出宽度，这里指定输出宽度为5"
   ]
  },
  {
   "cell_type": "code",
   "execution_count": 14,
   "metadata": {},
   "outputs": [
    {
     "name": "stdout",
     "output_type": "stream",
     "text": [
      "3.14\n"
     ]
    }
   ],
   "source": [
    "# 指定输出小数点位数\n",
    "a = 3.1415926\n",
    "\n",
    "# 保留2位小数\n",
    "print(\"{:.2f}\".format(a))"
   ]
  },
  {
   "cell_type": "code",
   "execution_count": 15,
   "metadata": {},
   "outputs": [
    {
     "name": "stdout",
     "output_type": "stream",
     "text": [
      "93.33%\n"
     ]
    }
   ],
   "source": [
    "# 输出百分号\n",
    "a = 0.93333333\n",
    "print(\"{:.2%}\".format(a))"
   ]
  },
  {
   "cell_type": "code",
   "execution_count": 16,
   "metadata": {},
   "outputs": [
    {
     "name": "stdout",
     "output_type": "stream",
     "text": [
      "30\n",
      "0b11110\n",
      "0o36\n",
      "0x1e\n"
     ]
    }
   ],
   "source": [
    "# 指定数字输出进制\n",
    "a = 30\n",
    "\n",
    "# 默认以十进制格式输出\n",
    "print(\"{}\".format(a))\n",
    "# 以二进制格式输出\n",
    "print(\"{:#b}\".format(a))\n",
    "# 以八进制格式输出\n",
    "print(\"{:#o}\".format(a))\n",
    "# 以十六进制格式输出\n",
    "print(\"{:#x}\".format(a))"
   ]
  },
  {
   "cell_type": "markdown",
   "metadata": {},
   "source": [
    "### 字符串常用方法"
   ]
  },
  {
   "cell_type": "markdown",
   "metadata": {},
   "source": [
    "`count(sub, [start[,end]])`返回子字符串`sub`在`[start, end]`范围内出现的次数，`start`和`end`都是可选参数"
   ]
  },
  {
   "cell_type": "code",
   "execution_count": 17,
   "metadata": {},
   "outputs": [
    {
     "name": "stdout",
     "output_type": "stream",
     "text": [
      "4\n",
      "2\n",
      "1\n"
     ]
    }
   ],
   "source": [
    "a = \"Helloo Woorld Helloo Woorld\"\n",
    "\n",
    "# 计算子字符串所有出现的次数\n",
    "print(a.count(\"oo\"))\n",
    "# 给定起始范围\n",
    "print(a.count(\"oo\", 10))\n",
    "# 给定起始和结束范围\n",
    "print(a.count(\"oo\", 10, 20))"
   ]
  },
  {
   "cell_type": "markdown",
   "metadata": {},
   "source": [
    "`encode(encoding=\"utf-8\")`将字符串以一定的编码方式存储为字节串，默认为`utf-8`编码"
   ]
  },
  {
   "cell_type": "code",
   "execution_count": 18,
   "metadata": {},
   "outputs": [],
   "source": [
    "a = \"Python是最简单的编程语言\"\n",
    "# 将Python字符串编码为字节串\n",
    "b = a.encode(encoding=\"utf-8\")"
   ]
  },
  {
   "cell_type": "markdown",
   "metadata": {},
   "source": [
    "`decode(encoding=\"utf-8\")`以一定的编码方式从字节串解码出字符串，默认为`utf-8`编码"
   ]
  },
  {
   "cell_type": "code",
   "execution_count": 19,
   "metadata": {},
   "outputs": [
    {
     "name": "stdout",
     "output_type": "stream",
     "text": [
      "Python是最简单的编程语言\n"
     ]
    }
   ],
   "source": [
    "# 从字节串中解码出字符串\n",
    "c = b.decode(encoding=\"utf-8\")\n",
    "print(c)"
   ]
  },
  {
   "cell_type": "markdown",
   "metadata": {},
   "source": [
    "`startswith(prefix[,start[,end]])`如果字符串以指定的`prefix`开始则返回`True`，否则返回`False`"
   ]
  },
  {
   "cell_type": "code",
   "execution_count": 20,
   "metadata": {},
   "outputs": [
    {
     "name": "stdout",
     "output_type": "stream",
     "text": [
      "False\n",
      "True\n",
      "False\n"
     ]
    }
   ],
   "source": [
    "a = \"Python World\"\n",
    "\n",
    "print(a.startswith(\"shit\"))\n",
    "# 整个字符串是否以给定字符串开始\n",
    "print(a.startswith(\"Pyt\"))\n",
    "# 给定范围是否以给定字符串开始\n",
    "print(a.startswith(\"Pyt\", 3, 7))"
   ]
  },
  {
   "cell_type": "markdown",
   "metadata": {},
   "source": [
    "`endswith(suffix[,start[,end]])`如果字符串以指定的`suffix`结束返回`True`，否则返回`False`"
   ]
  },
  {
   "cell_type": "code",
   "execution_count": 21,
   "metadata": {},
   "outputs": [
    {
     "name": "stdout",
     "output_type": "stream",
     "text": [
      "False\n",
      "True\n",
      "False\n"
     ]
    }
   ],
   "source": [
    "a = \"Python World\"\n",
    "\n",
    "print(a.endswith(\"shit\"))\n",
    "# 整个字符串是否以给定字符串结尾\n",
    "print(a.endswith(\"rld\"))\n",
    "# 给定范围是否以给定字符串结尾\n",
    "print(a.endswith(\"rld\", 3, 7))"
   ]
  },
  {
   "cell_type": "markdown",
   "metadata": {},
   "source": [
    "`find(sub[,start[,end]])`返回子字符串`sub`在`s[start:end]`切片内被找到的最小索引，如果找到返回索引，未找到返回-1"
   ]
  },
  {
   "cell_type": "code",
   "execution_count": 22,
   "metadata": {},
   "outputs": [
    {
     "name": "stdout",
     "output_type": "stream",
     "text": [
      "-1\n",
      "4\n",
      "9\n"
     ]
    }
   ],
   "source": [
    "a = \"Pythoon Woorld\"\n",
    "\n",
    "print(a.find(\"shit\"))\n",
    "# 从整个字符串寻找\n",
    "print(a.find(\"oo\"))\n",
    "# 从给定范围寻找\n",
    "print(a.find(\"oo\", 5, 15))"
   ]
  },
  {
   "cell_type": "markdown",
   "metadata": {},
   "source": [
    "`rfind(sub[,start[,end]])`返回子字符串`sub`在字符串内被找到的最大索引，如果找到返回索引，未找到返回-1，`rfind`与`find`的区别在于`find`从前往后查找，`rfind`从后往前查找"
   ]
  },
  {
   "cell_type": "code",
   "execution_count": 23,
   "metadata": {},
   "outputs": [
    {
     "name": "stdout",
     "output_type": "stream",
     "text": [
      "-1\n",
      "9\n",
      "4\n"
     ]
    }
   ],
   "source": [
    "a = \"Pythoon Woorld\"\n",
    "\n",
    "print(a.rfind(\"shit\"))\n",
    "# 从整个字符串寻找\n",
    "print(a.rfind(\"oo\"))\n",
    "# 从给定范围寻找\n",
    "print(a.rfind(\"oo\", 2, 8))"
   ]
  },
  {
   "cell_type": "markdown",
   "metadata": {},
   "source": [
    "`index(sub[,start[,end]])`类似于`find`，找不到子字符串时将抛出`ValueError`异常"
   ]
  },
  {
   "cell_type": "code",
   "execution_count": 24,
   "metadata": {},
   "outputs": [
    {
     "name": "stdout",
     "output_type": "stream",
     "text": [
      "4\n",
      "9\n"
     ]
    }
   ],
   "source": [
    "a = \"Pythoon Woorld\"\n",
    "\n",
    "# 从整个字符串寻找\n",
    "print(a.index(\"oo\"))\n",
    "# 从给定范围寻找，找不到将抛出异常\n",
    "print(a.index(\"oo\", 5, 15))"
   ]
  },
  {
   "cell_type": "markdown",
   "metadata": {},
   "source": [
    "`rindex(sub[,start[,end]])`类似于`rfind()`，但在子字符串`sub`未找到时会引发`ValueError`"
   ]
  },
  {
   "cell_type": "code",
   "execution_count": 25,
   "metadata": {},
   "outputs": [
    {
     "name": "stdout",
     "output_type": "stream",
     "text": [
      "9\n",
      "4\n"
     ]
    }
   ],
   "source": [
    "a = \"Pythoon Woorld\"\n",
    "\n",
    "# 从整个字符串寻找，从右向左查找\n",
    "print(a.rindex(\"oo\"))\n",
    "# 从给定范围寻找，找不到将抛出异常\n",
    "print(a.rindex(\"oo\", 2, 8))"
   ]
  },
  {
   "cell_type": "code",
   "execution_count": 26,
   "metadata": {},
   "outputs": [
    {
     "data": {
      "text/plain": [
       "True"
      ]
     },
     "execution_count": 26,
     "metadata": {},
     "output_type": "execute_result"
    }
   ],
   "source": [
    "# 如果只是判断子字符串是否在字符串中而不需要知道所在索引，使用in更好\n",
    "\"py\" in \"python\""
   ]
  },
  {
   "cell_type": "markdown",
   "metadata": {},
   "source": [
    "`join(iterable)`返回一个由`iterable`可迭代对象中的字符串拼接而成的字符串"
   ]
  },
  {
   "cell_type": "code",
   "execution_count": 27,
   "metadata": {},
   "outputs": [
    {
     "name": "stdout",
     "output_type": "stream",
     "text": [
      "Welcome to Python World !\n",
      "Welcome#to#Python#World#!\n"
     ]
    }
   ],
   "source": [
    "a = [\"Welcome\", \"to\", \"Python\", \"World\", \"!\"]\n",
    "\n",
    "# 用空格拼接每个字符串\n",
    "print(\" \".join(a))\n",
    "# 用#拼接每个字符串\n",
    "print(\"#\".join(a))"
   ]
  },
  {
   "cell_type": "markdown",
   "metadata": {},
   "source": [
    "`split(sep, maxsplit=-1)`返回一个由字符串内字符串组成的列表，使用`sep`作为分隔字符串。 如果给出了`maxsplit`选项，则最多进行`maxsplit`次拆分"
   ]
  },
  {
   "cell_type": "code",
   "execution_count": 28,
   "metadata": {},
   "outputs": [
    {
     "name": "stdout",
     "output_type": "stream",
     "text": [
      "['Welcome', 'to', 'Python', 'World']\n",
      "['Welcome', 'to', 'Python', 'World']\n",
      "['Welcome', 'to', 'Python@World']\n"
     ]
    }
   ],
   "source": [
    "a = \"Welcome to Python World\"\n",
    "b = \"Welcome@to@Python@World\"\n",
    "\n",
    "# 默认使用空白符进行分割\n",
    "c = a.split()\n",
    "print(c)\n",
    "\n",
    "# 显式给定分隔符\n",
    "d = b.split(\"@\")\n",
    "print(d)\n",
    "\n",
    "# 指定分割次数\n",
    "e = b.split(\"@\", maxsplit=2)\n",
    "print(e)"
   ]
  },
  {
   "cell_type": "markdown",
   "metadata": {},
   "source": [
    "`upper()`返回原字符串的大写副本"
   ]
  },
  {
   "cell_type": "code",
   "execution_count": 29,
   "metadata": {},
   "outputs": [
    {
     "name": "stdout",
     "output_type": "stream",
     "text": [
      "WELCOME TO PYTHON WORLD!\n"
     ]
    }
   ],
   "source": [
    "a = \"Welcome to Python World!\"\n",
    "print(a.upper())"
   ]
  },
  {
   "cell_type": "markdown",
   "metadata": {},
   "source": [
    "`lower()`返回原字符串的小写副本"
   ]
  },
  {
   "cell_type": "code",
   "execution_count": 30,
   "metadata": {},
   "outputs": [
    {
     "name": "stdout",
     "output_type": "stream",
     "text": [
      "welcome to python world!\n"
     ]
    }
   ],
   "source": [
    "a = \"Welcome to Python World!\"\n",
    "print(a.lower())"
   ]
  },
  {
   "cell_type": "markdown",
   "metadata": {},
   "source": [
    "`lstrip()`返回原字符串的副本，移除其中的前导字符"
   ]
  },
  {
   "cell_type": "code",
   "execution_count": 31,
   "metadata": {},
   "outputs": [
    {
     "name": "stdout",
     "output_type": "stream",
     "text": [
      "#Hello World\n",
      "Hello World\n"
     ]
    }
   ],
   "source": [
    "a = \" #Hello World\"\n",
    "\n",
    "# 默认移除空白符\n",
    "print(a.lstrip())\n",
    "# 显式指定要移除的字符\n",
    "print(a.lstrip(\" #\"))"
   ]
  },
  {
   "cell_type": "markdown",
   "metadata": {},
   "source": [
    "`rstrip()`返回原字符串的副本，移除其中的后缀字符"
   ]
  },
  {
   "cell_type": "code",
   "execution_count": 32,
   "metadata": {},
   "outputs": [
    {
     "name": "stdout",
     "output_type": "stream",
     "text": [
      "Hello World@\n",
      "Hello World\n"
     ]
    }
   ],
   "source": [
    "a = \"Hello World@ \"\n",
    "\n",
    "# 默认移除空白符\n",
    "print(a.rstrip())\n",
    "# 显式指定要移除的字符\n",
    "print(a.rstrip(\" @\"))"
   ]
  },
  {
   "cell_type": "markdown",
   "metadata": {},
   "source": [
    "`strip()`返回原字符串的副本，移除其中的前导和后缀字符"
   ]
  },
  {
   "cell_type": "code",
   "execution_count": 33,
   "metadata": {},
   "outputs": [
    {
     "name": "stdout",
     "output_type": "stream",
     "text": [
      "#Hello World!@\n",
      "Hello World!@\n",
      "#Hello World!\n",
      "Hello World!\n"
     ]
    }
   ],
   "source": [
    "a = \" #Hello World!@ \"\n",
    "\n",
    "# 默认移除空白符\n",
    "print(a.strip())\n",
    "# 显式指定要移除的字符\n",
    "print(a.strip(\" #\"))\n",
    "print(a.strip(\" @\"))\n",
    "print(a.strip(\" #@\"))"
   ]
  },
  {
   "cell_type": "markdown",
   "metadata": {},
   "source": [
    "`replace(old, new[count])`返回字符串的副本，其中出现的所有子字符串`old`都将被替换为`new`，如果给出了可选参数`count`，则只替换前`count`次出现"
   ]
  },
  {
   "cell_type": "code",
   "execution_count": 34,
   "metadata": {},
   "outputs": [
    {
     "name": "stdout",
     "output_type": "stream",
     "text": [
      "Pythxxn Wxxrld Gxxd\n",
      "Pythxxn Wxxrld Good\n"
     ]
    }
   ],
   "source": [
    "a = \"Pythoon Woorld Good\"\n",
    "\n",
    "# 替换所有出现\n",
    "print(a.replace(\"oo\", \"xx\"))\n",
    "# 指定替换次数\n",
    "print(a.replace(\"oo\", \"xx\", 2))"
   ]
  }
 ],
 "metadata": {
  "kernelspec": {
   "display_name": "Python 3",
   "language": "python",
   "name": "python3"
  },
  "language_info": {
   "codemirror_mode": {
    "name": "ipython",
    "version": 3
   },
   "file_extension": ".py",
   "mimetype": "text/x-python",
   "name": "python",
   "nbconvert_exporter": "python",
   "pygments_lexer": "ipython3",
   "version": "3.8.3"
  }
 },
 "nbformat": 4,
 "nbformat_minor": 4
}
