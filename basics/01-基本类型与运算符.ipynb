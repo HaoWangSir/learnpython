{
 "cells": [
  {
   "cell_type": "markdown",
   "metadata": {},
   "source": [
    "### 变量与类型\n",
    "\n",
    "在计算机程序中，数据存储在内存中，在`Python`中通常不会直接操作内存地址来读写数据，而是变量来读写数据，即变量是操作数据的载体. 不同的变量可以储存不同的数据类型，在`Python`中以下为几种常用的基本类型\n",
    "\n",
    "- 整型(int)：整数类型，除了常见的十进制(如`30`)外，还支持二进制(如`0b11110`)，八进制(如`0o36`)，十六进制(如`0x1E`)的数据.\n",
    "- 浮点型(float)：就是我们通常意义下的小数类型，还可以用科学记数法表示(如`123000`可用`1.23e5`表示).\n",
    "- 布尔型(bool)：布尔类型只有`True`和`False`两种值，用于表示逻辑真和假.\n",
    "- 字符串(str)：使用单引号或双引号括起来的文本(如`'Welcome to Python!'`或`\"Welcome to Python!\"`)."
   ]
  },
  {
   "cell_type": "markdown",
   "metadata": {},
   "source": [
    "### 变量命名\n",
    "\n",
    "对于变量我们都需要给它取一个名字，在`Python`中变量的命名需要遵循以下规则\n",
    "\n",
    "1. 变量名可由**字母**，**数字**，**下划线**构成，但不能以数字开头. 如`user_id`, `user1`, `user2`等\n",
    "2. 大小写敏感，`uid`与`UID`是不同的变量.\n",
    "3. 不能使用Python语言的关键字作为变量名\n",
    "\n",
    "Python关键字如下\n",
    "\n",
    "|     |       |        |       |       |       |\n",
    "| :-----: | :--------: | :---------: | :--------: | :--------: | :--------: |\n",
    "|  and  |   as    |  assert  |  break   |  class   | continue  |\n",
    "|  def  |  del   |   elif   |  else   |  except  |  finally  |\n",
    "|  for  |  from   |  False   |  global  |   if   |  import   |\n",
    "|  in  |   is   |  labmda   |  nonlocal  |  not   |  None   |\n",
    "|  or   |  pass   |  raise   |  return   |  try   |  True   |\n",
    "|  while   |  with    |  yield    | "
   ]
  },
  {
   "cell_type": "markdown",
   "metadata": {},
   "source": [
    "### 注释\n",
    "\n",
    "1. 单行注释，以`#`开头表示单行注释，如\n",
    "\n",
    "```python\n",
    "# 这是注释，注释的目的是对程序进行一些必要的说明，增加代码可读性\n",
    "```\n",
    "\n",
    "2. 多行注释，使用三引号表示多行注释，如\n",
    "\n",
    "```python\n",
    "\"\"\"\n",
    "这是\n",
    "一个\n",
    "多行\n",
    "注释\n",
    "\"\"\"\n",
    "```\n",
    "\n",
    "还可以使用单引号\n",
    "\n",
    "```python\n",
    "'''\n",
    "这也是\n",
    "一个\n",
    "多行\n",
    "注释\n",
    "'''\n",
    "```"
   ]
  },
  {
   "cell_type": "code",
   "execution_count": 1,
   "metadata": {},
   "outputs": [
    {
     "name": "stdout",
     "output_type": "stream",
     "text": [
      "<class 'int'>\n",
      "<class 'float'>\n",
      "<class 'bool'>\n",
      "<class 'str'>\n"
     ]
    }
   ],
   "source": [
    "# a是一个整数\n",
    "a = 30\n",
    "# b是一个浮点数\n",
    "b = 13.57\n",
    "# c是布尔类型\n",
    "c = True\n",
    "# d是字符串类型\n",
    "d = \"Welcome to Python world!\"\n",
    "\n",
    "# 输出变量类型，在Python中可以使用type函数获取变量类型\n",
    "print(type(a))\n",
    "print(type(b))\n",
    "print(type(c))\n",
    "print(type(d))"
   ]
  },
  {
   "cell_type": "markdown",
   "metadata": {},
   "source": [
    "### 类型转换\n",
    "\n",
    "不同类型的变量可以相互转换，Python内置了如下函数进行类型转换\n",
    "\n",
    "- int()：将输入变量转换为整型\n",
    "- float()：将输入变量转换为浮点型\n",
    "- str()：将输入变量转换为字符串型"
   ]
  },
  {
   "cell_type": "code",
   "execution_count": 2,
   "metadata": {},
   "outputs": [
    {
     "name": "stdout",
     "output_type": "stream",
     "text": [
      "int -> str: '30'\n",
      "float -> str: '13.57'\n",
      "str -> int: 99\n",
      "str -> float: 99.0\n",
      "str -> bool: True\n"
     ]
    }
   ],
   "source": [
    "a = 30\n",
    "b = 13.57\n",
    "c = \"99\"\n",
    "d = \"没有比Python更简单的编程语言\"\n",
    "\n",
    "# 将整数转换为字符串\n",
    "print(\"int -> str: '{}'\".format(str(a)))\n",
    "# 将浮点数转换为字符串\n",
    "print(\"float -> str: '{}'\".format(str(b)))\n",
    "# 将字符串转换为整数\n",
    "print(\"str -> int: {}\".format(int(c)))\n",
    "# 将字符串转换为浮点数\n",
    "print(\"str -> float: {}\".format(float(c)))\n",
    "# 将字符串转换为布尔类型\n",
    "print(\"str -> bool: {}\".format(bool(c)))"
   ]
  },
  {
   "cell_type": "markdown",
   "metadata": {},
   "source": [
    "### 假值\n",
    "\n",
    "任何对象都可以进行逻辑值的检测，以便在`if`或`while`作为条件或是作为下文所述布尔运算的操作数来使用，以下列出了会被视为假值的内置对象\n",
    "\n",
    "- 被定义为假值的常量：`None`和`False`\n",
    "- 任何数值类型的零：`0`, `0.0`, `Decimal(0)`, `Fraction(0, 1)`\n",
    "- 空字符串或空序列：`''`, `()`, `[]`, `{}`, `set()`, `range(0)`"
   ]
  },
  {
   "cell_type": "markdown",
   "metadata": {},
   "source": [
    "### 布尔运算符\n",
    "\n",
    "布尔运算符用于进行逻辑值的计算，在`if`和`while`等控制语句中会频繁用到\n",
    "\n",
    "|    运算符     |        描述       |   解释  |\n",
    "| :----------------: | :-----------------------: | :-----: |\n",
    "|    `or`       |  逻辑或运算          |  只要有一项为真则结果为真  |\n",
    "|    `and`       |  逻辑与运算          |  所有项为真则结果为真  |\n",
    "|    `not`       |  逻辑非运算          |  真假颠倒  |"
   ]
  },
  {
   "cell_type": "code",
   "execution_count": 3,
   "metadata": {},
   "outputs": [
    {
     "name": "stdout",
     "output_type": "stream",
     "text": [
      "a大于3或者b大于0\n",
      "a等于b且c是一个非空字符串\n",
      "a不大于1\n"
     ]
    }
   ],
   "source": [
    "a = 1\n",
    "b = 1\n",
    "c = \"我是一个非空字符串\"\n",
    "\n",
    "# 只要有一个条件为真则判断为真，这里a>3为False，但是b>0为True，所以最终结果为True\n",
    "if a > 3 or b > 0:\n",
    "    print(\"a大于3或者b大于0\")\n",
    "    \n",
    "# 两个条件都为真的时候才判断为真这里a==b为True，且c是一个非空字符串，两项都为True，所以最终结果为True\n",
    "if a == b and c:\n",
    "    print(\"a等于b且c是一个非空字符串\")\n",
    "    \n",
    "# 逻辑取反，这里a>1为False，对它取反则为True\n",
    "if not a > 1:\n",
    "    print(\"a不大于1\")"
   ]
  },
  {
   "cell_type": "markdown",
   "metadata": {},
   "source": [
    "### 比较运算符\n",
    "\n",
    "比较运算符用于判断值的大小或相等与否，以下为Python支持的比较运算符\n",
    "\n",
    "|       运算符       |        描述       |\n",
    "| :------------------------: | :-----------------------: |\n",
    "|    <       |     小于       |\n",
    "|    <=       |     小于或等于       |\n",
    "|    >       |     大于       |\n",
    "|    >=       |    大于或等于        |\n",
    "|   ==        |    等于        |\n",
    "|   !=        |    不等于       |\n",
    "|    is       |    对象标识        |\n",
    "|   is not        |   否定的对象标识       |"
   ]
  },
  {
   "cell_type": "code",
   "execution_count": 4,
   "metadata": {},
   "outputs": [
    {
     "name": "stdout",
     "output_type": "stream",
     "text": [
      "a小于b\n",
      "a小于或等于b\n",
      "c大于a\n",
      "c大于或等于a\n",
      "b等于c\n",
      "a不等于b\n"
     ]
    }
   ],
   "source": [
    "a = 1\n",
    "b = 3\n",
    "c = 3\n",
    "\n",
    "# a小于b，结果为True\n",
    "if a < b:\n",
    "    print(\"a小于b\")\n",
    "    \n",
    "# a小于等于b，结果为True\n",
    "if a <= b:\n",
    "    print(\"a小于或等于b\")\n",
    "    \n",
    "# c大于a，结果为True\n",
    "if c > a:\n",
    "    print(\"c大于a\")\n",
    "    \n",
    "# c大于等于a，结果为True\n",
    "if c >= a:\n",
    "    print(\"c大于或等于a\")\n",
    "    \n",
    "# b等于c，结果为True\n",
    "if b == c:\n",
    "    print(\"b等于c\")\n",
    "    \n",
    "# a不等于b，结果为True\n",
    "if a != b:\n",
    "    print(\"a不等于b\")"
   ]
  },
  {
   "cell_type": "markdown",
   "metadata": {},
   "source": [
    "### 算术运算符\n",
    "\n",
    "算数运算符用于数值计算，以下为常见的算术运算符\n",
    "\n",
    "|       运算符       |        描述       |\n",
    "| :------------------------: | :-----------------------: |\n",
    "|    `+ `      |     加法       |\n",
    "|    `- `      |     减法       |\n",
    "|    `* `      |     乘法       |\n",
    "|    `/ `      |     除法       |\n",
    "|    `//`       |    整除        |\n",
    "|    `% `      |     求模       |\n",
    "|    `- `      |     负号       |\n",
    "|    `+ `      |     正号       |\n",
    "|    `**`       |    指数        |"
   ]
  },
  {
   "cell_type": "code",
   "execution_count": 5,
   "metadata": {},
   "outputs": [
    {
     "name": "stdout",
     "output_type": "stream",
     "text": [
      "2 + 5 = 7\n",
      "2 - 5 = -3\n",
      "2 * 5 = 10\n",
      "5 / 2 = 2.5\n",
      "5 // 2 = 2\n",
      "5 % 2 = 1\n",
      "2 ** 5 = 32\n"
     ]
    }
   ],
   "source": [
    "a = 2\n",
    "b = 5\n",
    "\n",
    "# 加法\n",
    "print(\"{} + {} = {}\".format(a, b, a+b))\n",
    "# 减法\n",
    "print(\"{} - {} = {}\".format(a, b, a-b))\n",
    "# 乘法\n",
    "print(\"{} * {} = {}\".format(a, b, a*b))\n",
    "# 除法\n",
    "print(\"{} / {} = {}\".format(b, a, b/a))\n",
    "# 计算商\n",
    "print(\"{} // {} = {}\".format(b, a, b//a))\n",
    "# 计算余数\n",
    "print(\"{} % {} = {}\".format(b, a, b%a))\n",
    "# 指数运算\n",
    "print(\"{} ** {} = {}\".format(a, b, a**b))"
   ]
  },
  {
   "cell_type": "markdown",
   "metadata": {},
   "source": [
    "### 按位运算符\n",
    "\n",
    "按位运算只对整数有意义，以下为Python位运算符\n",
    "\n",
    "|       运算符       |        描述       |\n",
    "| :------------------------: | :-----------------------: |\n",
    "|     `\\|`      |     按位或       |\n",
    "|     `^`      |      按位异或      |\n",
    "|     `&`      |      按位与      |\n",
    "|     `<<`      |      左移      |\n",
    "|     `>>`      |      右移      |\n",
    "|     `~`      |       按位取反     |"
   ]
  },
  {
   "cell_type": "code",
   "execution_count": 6,
   "metadata": {},
   "outputs": [
    {
     "name": "stdout",
     "output_type": "stream",
     "text": [
      "a = 22\n",
      "b = 27\n",
      "0b10110 | 0b11011 = 0b11111 (31)\n",
      "0b10110 ^ 0b11011 = 0b1101 (13)\n",
      "0b10110 & 0b11011 = 0b10010 (18)\n",
      "0b10110 << 2 = 0b1011000 (88)\n",
      "0b11011 >> 2 = 0b110 (6)\n",
      "~0b10110 = -0b10111 (-23)\n"
     ]
    }
   ],
   "source": [
    "# a和b为两个二进制整数\n",
    "a = 0b10110\n",
    "b = 0b11011\n",
    "\n",
    "# 输出查看a和b的十进制表示\n",
    "print(\"a = {}\".format(a))\n",
    "print(\"b = {}\".format(b))\n",
    "\n",
    "# a和b的所有位进行或操作，括号中为十进制表示结果\n",
    "print(\"{:#b} | {:#b} = {:#b} ({})\".format(a, b, a|b, a|b))\n",
    "# a和b的所有位进行异或操作，括号中为十进制表示结果\n",
    "print(\"{:#b} ^ {:#b} = {:#b} ({})\".format(a, b, a^b, a^b))\n",
    "# a和b的所有位进行按位与操作，括号中为十进制表示结果\n",
    "print(\"{:#b} & {:#b} = {:#b} ({})\".format(a, b, a&b, a&b))\n",
    "# 对a进行左移操作，左移n位相当于乘以2的n次方，括号中为十进制表示结果\n",
    "print(\"{:#b} << {} = {:#b} ({})\".format(a, 2, a<<2, a<<2))\n",
    "# 对b进行右移操作，右移n位相当于除以2的n次方，括号中为十进制表示结果\n",
    "print(\"{:#b} >> {} = {:#b} ({})\".format(b, 2, b>>2, b>>2))\n",
    "# 将a的所有位翻转，1变0，0变1，括号中为十进制表示结果\n",
    "print(\"~{:#b} = {:#b} ({})\".format(a, ~a, ~a))"
   ]
  },
  {
   "cell_type": "markdown",
   "metadata": {},
   "source": [
    "### 赋值运算符\n",
    "\n",
    "赋值运算符的作用是将右边的值赋给左边的变量，以下为常用的赋值运算符\n",
    "\n",
    "|       运算符       |        描述       |\n",
    "| :------------------------: | :-----------------------: |\n",
    "|    `=`       |     直接赋值       |\n",
    "|    `+= `      |     先做加法再赋值       |\n",
    "|    `-= `      |     先做减法再赋值       |\n",
    "|    `*= `      |     先做乘法再赋值       |\n",
    "|    `/= `      |     先做除法再赋值       |\n",
    "|    `//=`      |     先做整除再赋值       |\n",
    "|    `%= `      |     先做求模再赋值       |\n",
    "|    `**=`      |     先做指数再赋值       |\n",
    "|    `<<=`      |     先做左移再赋值      |\n",
    "|     `>>=`     |     先做右移再赋值      |\n",
    "|    `&`       |     先做按位与再赋值      |\n",
    "|    `\\|`      |      先做按位或再赋值      |\n",
    "|     `^`      |      先做按位异或再赋值      |"
   ]
  },
  {
   "cell_type": "code",
   "execution_count": 7,
   "metadata": {},
   "outputs": [],
   "source": [
    "# 直接将5赋给变量a\n",
    "a = 5 \n",
    "# 等价于a = a + 2\n",
    "a += 2\n",
    "# 等价于a = a - 2\n",
    "a -= 2\n",
    "# 等价于a = a * 2\n",
    "a *= 2\n",
    "# 等价于a = a / 2\n",
    "a /= 2\n",
    "# 等价于a = a // 2\n",
    "a //= 2\n",
    "# 等价于a = a % 2\n",
    "a %= 2\n",
    "# 等价于a = a ** 2\n",
    "a **= 2"
   ]
  },
  {
   "cell_type": "code",
   "execution_count": 8,
   "metadata": {},
   "outputs": [],
   "source": [
    "a  = 5\n",
    "# 等价于a = a << 2\n",
    "a <<= 2\n",
    "# 等价于a = a >> 2\n",
    "a >>= 2\n",
    "# 等价于a = a & 2\n",
    "a &= 2\n",
    "# 等价于a = a | 2\n",
    "a |= 2\n",
    "# 等价于a = a ^ a\n",
    "a ^= 2"
   ]
  }
 ],
 "metadata": {
  "kernelspec": {
   "display_name": "Python 3",
   "language": "python",
   "name": "python3"
  },
  "language_info": {
   "codemirror_mode": {
    "name": "ipython",
    "version": 3
   },
   "file_extension": ".py",
   "mimetype": "text/x-python",
   "name": "python",
   "nbconvert_exporter": "python",
   "pygments_lexer": "ipython3",
   "version": "3.8.3"
  }
 },
 "nbformat": 4,
 "nbformat_minor": 4
}
