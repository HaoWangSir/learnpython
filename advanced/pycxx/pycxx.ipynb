{
 "cells": [
  {
   "cell_type": "code",
   "execution_count": 1,
   "metadata": {},
   "outputs": [],
   "source": [
    "# 导入C++中定义的模块\n",
    "import pycxx"
   ]
  },
  {
   "cell_type": "code",
   "execution_count": 2,
   "metadata": {},
   "outputs": [
    {
     "name": "stdout",
     "output_type": "stream",
     "text": [
      "3.14\n"
     ]
    }
   ],
   "source": [
    "# 输出全局变量\n",
    "print(pycxx.pi)"
   ]
  },
  {
   "cell_type": "code",
   "execution_count": 3,
   "metadata": {
    "scrolled": true
   },
   "outputs": [
    {
     "data": {
      "text/plain": [
       "8.0"
      ]
     },
     "execution_count": 3,
     "metadata": {},
     "output_type": "execute_result"
    }
   ],
   "source": [
    "# 调用全局函数\n",
    "pycxx.add(3, 5)"
   ]
  },
  {
   "cell_type": "code",
   "execution_count": 4,
   "metadata": {},
   "outputs": [
    {
     "data": {
      "text/plain": [
       "-2.0"
      ]
     },
     "execution_count": 4,
     "metadata": {},
     "output_type": "execute_result"
    }
   ],
   "source": [
    "# 以关键字参数形式调用函数\n",
    "pycxx.subtract(3, 5)"
   ]
  },
  {
   "cell_type": "code",
   "execution_count": 5,
   "metadata": {},
   "outputs": [
    {
     "data": {
      "text/plain": [
       "15.0"
      ]
     },
     "execution_count": 5,
     "metadata": {},
     "output_type": "execute_result"
    }
   ],
   "source": [
    "# 调用带默认值参数的函数\n",
    "pycxx.multiply()"
   ]
  },
  {
   "cell_type": "code",
   "execution_count": 6,
   "metadata": {},
   "outputs": [
    {
     "data": {
      "text/plain": [
       "45.0"
      ]
     },
     "execution_count": 6,
     "metadata": {},
     "output_type": "execute_result"
    }
   ],
   "source": [
    "# 显式传递参数\n",
    "pycxx.multiply(5, 9)"
   ]
  },
  {
   "cell_type": "code",
   "execution_count": 7,
   "metadata": {},
   "outputs": [],
   "source": [
    "args = [1, 3, 5, 7, 9]\n",
    "kwargs = {\n",
    "    \"python\": \"开发速度快\",\n",
    "    \"cxx\": \"执行效率高\"\n",
    "}\n",
    "\n",
    "# 调用可变参数函数，输出将会打印在终端\n",
    "pycxx.var_args(*args, **kwargs)"
   ]
  },
  {
   "cell_type": "code",
   "execution_count": 8,
   "metadata": {},
   "outputs": [
    {
     "data": {
      "text/plain": [
       "34.0"
      ]
     },
     "execution_count": 8,
     "metadata": {},
     "output_type": "execute_result"
    }
   ],
   "source": [
    "# 调用lambda函数\n",
    "pycxx.square_add(3, 5)"
   ]
  },
  {
   "cell_type": "code",
   "execution_count": 9,
   "metadata": {},
   "outputs": [],
   "source": [
    "# 使用枚举\n",
    "red = pycxx.Color.kRed\n",
    "green = pycxx.Color.kGreen\n",
    "blue = pycxx.Color.kBlue\n",
    "\n",
    "# 输出将会打印在终端\n",
    "pycxx.print_color(red)\n",
    "pycxx.print_color(green)\n",
    "pycxx.print_color(blue)"
   ]
  },
  {
   "cell_type": "code",
   "execution_count": 10,
   "metadata": {},
   "outputs": [],
   "source": [
    "# 构造结构体对象\n",
    "bar = pycxx.Bar(\"九年级\", 550)"
   ]
  },
  {
   "cell_type": "code",
   "execution_count": 11,
   "metadata": {},
   "outputs": [
    {
     "name": "stdout",
     "output_type": "stream",
     "text": [
      "九年级\n"
     ]
    }
   ],
   "source": [
    "# 访问只读成员\n",
    "print(bar.grade)"
   ]
  },
  {
   "cell_type": "code",
   "execution_count": 12,
   "metadata": {},
   "outputs": [
    {
     "name": "stdout",
     "output_type": "stream",
     "text": [
      "550.0\n"
     ]
    }
   ],
   "source": [
    "# 访问可读写成员\n",
    "print(bar.score)"
   ]
  },
  {
   "cell_type": "code",
   "execution_count": null,
   "metadata": {},
   "outputs": [],
   "source": [
    "# 修改只读成员将报错\n",
    "bar.grade = \"五年级\""
   ]
  },
  {
   "cell_type": "code",
   "execution_count": 13,
   "metadata": {},
   "outputs": [],
   "source": [
    "# 修改可读写属性\n",
    "bar.score = 580"
   ]
  },
  {
   "cell_type": "code",
   "execution_count": 14,
   "metadata": {},
   "outputs": [],
   "source": [
    "# 构造无参基类对象\n",
    "base = pycxx.Base()"
   ]
  },
  {
   "cell_type": "code",
   "execution_count": 15,
   "metadata": {},
   "outputs": [],
   "source": [
    "# 调用基类成员函数，输出将会打印在终端\n",
    "base.base_print()"
   ]
  },
  {
   "cell_type": "code",
   "execution_count": 16,
   "metadata": {},
   "outputs": [],
   "source": [
    "# 构造带参数的派生类对象\n",
    "foo = pycxx.Foo(\"张三\", 18)"
   ]
  },
  {
   "cell_type": "code",
   "execution_count": 17,
   "metadata": {},
   "outputs": [
    {
     "data": {
      "text/plain": [
       "'张三'"
      ]
     },
     "execution_count": 17,
     "metadata": {},
     "output_type": "execute_result"
    }
   ],
   "source": [
    "# 通过定义的属性getter访问成员\n",
    "foo.name"
   ]
  },
  {
   "cell_type": "code",
   "execution_count": 18,
   "metadata": {},
   "outputs": [],
   "source": [
    "# 通过定义的属性setter修改成员\n",
    "foo.name = \"李四\""
   ]
  },
  {
   "cell_type": "code",
   "execution_count": 19,
   "metadata": {},
   "outputs": [],
   "source": [
    "# 调用成员函数，输出将会打印在终端\n",
    "foo.to_string()"
   ]
  },
  {
   "cell_type": "code",
   "execution_count": 20,
   "metadata": {},
   "outputs": [],
   "source": [
    "# C++中std::vector/std::deque/std::list/std::array转换为Python中的list\n",
    "foo.append_list([1, 3, 5, 7, 9])"
   ]
  },
  {
   "cell_type": "code",
   "execution_count": 21,
   "metadata": {},
   "outputs": [],
   "source": [
    "# C++中std::set/std::unordered_set转换为Python中的set\n",
    "foo.append_set(set([2, 4, 6, 8, 0]))"
   ]
  },
  {
   "cell_type": "code",
   "execution_count": 22,
   "metadata": {},
   "outputs": [],
   "source": [
    "# C++中std::map/std::unordered_map转换为Python中的dict\n",
    "foo.append_dict(kwargs)"
   ]
  },
  {
   "cell_type": "code",
   "execution_count": 23,
   "metadata": {},
   "outputs": [],
   "source": [
    "# 输出append_*的结果，输出将会打印在终端\n",
    "foo.print_container()"
   ]
  },
  {
   "cell_type": "code",
   "execution_count": 24,
   "metadata": {},
   "outputs": [],
   "source": [
    "# C++基类虚函数，输出将会打印在终端\n",
    "base.print()"
   ]
  },
  {
   "cell_type": "code",
   "execution_count": 25,
   "metadata": {},
   "outputs": [],
   "source": [
    "# C++派生类重载的虚函数，输出将会打印在终端\n",
    "foo.print()"
   ]
  },
  {
   "cell_type": "code",
   "execution_count": 26,
   "metadata": {},
   "outputs": [
    {
     "data": {
      "text/plain": [
       "7"
      ]
     },
     "execution_count": 26,
     "metadata": {},
     "output_type": "execute_result"
    }
   ],
   "source": [
    "# C++派生类虚函数，输出将会打印在终端\n",
    "foo.get_elem(3)"
   ]
  },
  {
   "cell_type": "code",
   "execution_count": 27,
   "metadata": {},
   "outputs": [],
   "source": [
    "# 在Python中定义一个继承自C++的派生类\n",
    "class PythonFoo(pycxx.Foo):\n",
    "    \"\"\"在Python中继承C++中定义的类\"\"\"\n",
    "    def __init__(self, name, age, sex):\n",
    "        # 调用基类构造函数\n",
    "        pycxx.Foo.__init__(self, name, age)\n",
    "        self.sex = sex\n",
    "        \n",
    "    def print(self):\n",
    "        \"\"\"重载C++基类中定义的接口\"\"\"\n",
    "        print(\"我是在Python中定义的派生类\")\n",
    "        \n",
    "    def get_elem(self, i):\n",
    "        \"\"\"重载C++基类中定义的接口\"\"\"\n",
    "        return i*i\n",
    "    \n",
    "    def say_hello(self):\n",
    "        \"\"\"Python类定义自己的函数\"\"\"\n",
    "        print(\"hello, pybind11!\")"
   ]
  },
  {
   "cell_type": "code",
   "execution_count": 28,
   "metadata": {},
   "outputs": [],
   "source": [
    "# 构造python对象\n",
    "pyfoo = PythonFoo(\"王五\", 19, \"male\")"
   ]
  },
  {
   "cell_type": "code",
   "execution_count": 29,
   "metadata": {},
   "outputs": [
    {
     "name": "stdout",
     "output_type": "stream",
     "text": [
      "我是在Python中定义的派生类\n"
     ]
    }
   ],
   "source": [
    "# 调用重载版本\n",
    "pyfoo.print()"
   ]
  },
  {
   "cell_type": "code",
   "execution_count": 30,
   "metadata": {},
   "outputs": [
    {
     "data": {
      "text/plain": [
       "9"
      ]
     },
     "execution_count": 30,
     "metadata": {},
     "output_type": "execute_result"
    }
   ],
   "source": [
    "# 调用重载版本\n",
    "pyfoo.get_elem(3)"
   ]
  },
  {
   "cell_type": "code",
   "execution_count": 31,
   "metadata": {},
   "outputs": [
    {
     "name": "stdout",
     "output_type": "stream",
     "text": [
      "hello, pybind11!\n"
     ]
    }
   ],
   "source": [
    "# 调用python中定义的接口\n",
    "pyfoo.say_hello()"
   ]
  }
 ],
 "metadata": {
  "kernelspec": {
   "display_name": "Python 3",
   "language": "python",
   "name": "python3"
  },
  "language_info": {
   "codemirror_mode": {
    "name": "ipython",
    "version": 3
   },
   "file_extension": ".py",
   "mimetype": "text/x-python",
   "name": "python",
   "nbconvert_exporter": "python",
   "pygments_lexer": "ipython3",
   "version": "3.8.3"
  }
 },
 "nbformat": 4,
 "nbformat_minor": 4
}
